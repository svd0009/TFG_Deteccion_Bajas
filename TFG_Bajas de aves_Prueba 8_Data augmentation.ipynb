{
 "cells": [
  {
   "cell_type": "markdown",
   "metadata": {},
   "source": [
    "# ---------------------------------------------------------------------------------------------------------\n",
    "# Librerías\n",
    "# ---------------------------------------------------------------------------------------------------------"
   ]
  },
  {
   "cell_type": "code",
   "execution_count": 1,
   "metadata": {},
   "outputs": [],
   "source": [
    "import urllib.request\n",
    "import os\n",
    "import zipfile\n",
    "\n",
    "import matplotlib.image as mpimg\n",
    "import matplotlib.pyplot as plt\n",
    "\n",
    "\n",
    "import tensorflow as tf\n",
    "\n",
    "from tensorflow.keras.optimizers import RMSprop\n",
    "from tensorflow.keras.preprocessing.image import ImageDataGenerator\n",
    "from tensorflow.keras.preprocessing import image\n",
    "\n",
    "\n",
    "import numpy as np"
   ]
  },
  {
   "cell_type": "markdown",
   "metadata": {},
   "source": [
    "## Ubicación de imágenes de modelo y de test."
   ]
  },
  {
   "cell_type": "code",
   "execution_count": 2,
   "metadata": {},
   "outputs": [],
   "source": [
    "#Directorio base\n",
    "base_dir = 'C:/Users/Saul/Desktop/SAUL/INFORMATICA/UBU 4º/2º semestre/TFG/Fotos_Proyecto_Detección_de_Bajas'\n",
    "\n",
    "train_dir = os.path.join(base_dir, 'Entrenamiento')\n",
    "validation_dir = os.path.join(base_dir, 'Validacion')\n",
    "\n",
    "# Directorio con las fotos de gallinas clasificadas\n",
    "train_alive_dir = os.path.join(train_dir, 'Gallinas_vivas')\n",
    "train_dead_dir = os.path.join(train_dir, 'Gallinas_muertas')\n",
    "\n",
    "# Directorio con las imágenes de modelo\n",
    "validation_alive_dir = os.path.join(validation_dir, 'Gallinas_vivas')\n",
    "validation_dead_dir = os.path.join(validation_dir, 'Gallinas_muertas')"
   ]
  },
  {
   "cell_type": "markdown",
   "metadata": {},
   "source": [
    "# ---------------------------------------------------------------------------------------------------------\n",
    "# PREPROCESAMIENTO DE LOS DATOS\n",
    "# ---------------------------------------------------------------------------------------------------------"
   ]
  },
  {
   "cell_type": "markdown",
   "metadata": {},
   "source": [
    "### Prueba nº8: Data augmentation."
   ]
  },
  {
   "cell_type": "code",
   "execution_count": 3,
   "metadata": {},
   "outputs": [],
   "source": [
    "model = tf.keras.models.Sequential([\n",
    "    # tf.keras.layers.Conv2D(filtros, tamaño_kernel, activacion, input_shape)\n",
    "    # input_size es la forma deseada de la imagen (150x150) con 3 bytes de color\n",
    "    # Bloque de convolución 1\n",
    "    tf.keras.layers.Conv2D(100, (3,3), activation='relu', input_shape=(150, 150, 3)),\n",
    "    tf.keras.layers.MaxPooling2D(2,2),\n",
    "    \n",
    "    # Bloque de convolución 2\n",
    "    tf.keras.layers.Conv2D(100, (3,3), activation='relu'),\n",
    "    tf.keras.layers.MaxPooling2D(2,2), \n",
    "    \n",
    "    # Bloque de convolución 3\n",
    "    tf.keras.layers.Conv2D(100, (3,3), activation='relu'), \n",
    "    tf.keras.layers.MaxPooling2D(2,2),\n",
    "    \n",
    "    # \"Aplana\" los resultados para pasárselos a una DNN (Deep neural network)\n",
    "    tf.keras.layers.Flatten(), \n",
    "    \n",
    "    # Neuronas de capa oculta: 512\n",
    "    tf.keras.layers.Dense(512, activation='relu')\n",
    "    , \n",
    "    # Neurona de salida que devuelve dos valores: 0 para gallinas muertas y 1 para gallinas vivas.\n",
    "    tf.keras.layers.Dense(1, activation='sigmoid')  \n",
    "])"
   ]
  },
  {
   "cell_type": "code",
   "execution_count": 4,
   "metadata": {},
   "outputs": [],
   "source": [
    "from tensorflow.keras.optimizers import RMSprop\n",
    "\n",
    "model.compile(optimizer=RMSprop(learning_rate=0.001),\n",
    "              loss='binary_crossentropy',\n",
    "              metrics = ['accuracy'])"
   ]
  },
  {
   "cell_type": "code",
   "execution_count": 5,
   "metadata": {},
   "outputs": [
    {
     "name": "stdout",
     "output_type": "stream",
     "text": [
      "Found 161 images belonging to 2 classes.\n",
      "Found 70 images belonging to 2 classes.\n"
     ]
    }
   ],
   "source": [
    "# DATA AUGMENTATION: SE HA APLICADO ROTACIÓN, BRILLO Y VOLTEO (VERTICAL Y HORIZONTAL)\n",
    "train_datagen = ImageDataGenerator(rotation_range=90, \n",
    "                                   brightness_range=(0.2, 0.8), \n",
    "                                   horizontal_flip=True, \n",
    "                                   vertical_flip=True, \n",
    "                                   rescale = 1.0/255.)\n",
    "\n",
    "test_datagen  = ImageDataGenerator( rescale = 1.0/255. )\n",
    "\n",
    "# ------------------------------------------------------------------------\n",
    "# Entrenamiento de las imágenes en lotes de 5 utilizando \"train_datagen\"\n",
    "# ------------------------------------------------------------------------\n",
    "train_generator = train_datagen.flow_from_directory(train_dir,\n",
    "                                                    batch_size=5,\n",
    "                                                    class_mode='binary',\n",
    "                                                    target_size=(150, 150))     \n",
    "\n",
    "# ------------------------------------------------------------------------\n",
    "# Validación de las imágenes en lotes de 5 utilizando \"test_datagen\"\n",
    "# ------------------------------------------------------------------------\n",
    "validation_generator =  test_datagen.flow_from_directory(validation_dir,\n",
    "                                                         batch_size=5,\n",
    "                                                         class_mode  = 'binary',\n",
    "                                                         target_size = (150, 150))"
   ]
  },
  {
   "cell_type": "markdown",
   "metadata": {},
   "source": [
    "## Entrenamiento"
   ]
  },
  {
   "cell_type": "code",
   "execution_count": 6,
   "metadata": {},
   "outputs": [
    {
     "name": "stdout",
     "output_type": "stream",
     "text": [
      "Epoch 1/100\n",
      "33/33 - 64s - loss: 0.7431 - accuracy: 0.7391 - val_loss: 0.5806 - val_accuracy: 0.7286 - 64s/epoch - 2s/step\n",
      "Epoch 2/100\n",
      "33/33 - 60s - loss: 0.6138 - accuracy: 0.7391 - val_loss: 0.5927 - val_accuracy: 0.7286 - 60s/epoch - 2s/step\n",
      "Epoch 3/100\n",
      "33/33 - 60s - loss: 0.6199 - accuracy: 0.7391 - val_loss: 0.5892 - val_accuracy: 0.7286 - 60s/epoch - 2s/step\n",
      "Epoch 4/100\n",
      "33/33 - 60s - loss: 0.6389 - accuracy: 0.7391 - val_loss: 0.5854 - val_accuracy: 0.7286 - 60s/epoch - 2s/step\n",
      "Epoch 5/100\n",
      "33/33 - 59s - loss: 0.6111 - accuracy: 0.7391 - val_loss: 0.5991 - val_accuracy: 0.7286 - 59s/epoch - 2s/step\n",
      "Epoch 6/100\n",
      "33/33 - 59s - loss: 0.6017 - accuracy: 0.7391 - val_loss: 0.6216 - val_accuracy: 0.7286 - 59s/epoch - 2s/step\n",
      "Epoch 7/100\n",
      "33/33 - 60s - loss: 0.6436 - accuracy: 0.7329 - val_loss: 0.5870 - val_accuracy: 0.7286 - 60s/epoch - 2s/step\n",
      "Epoch 8/100\n",
      "33/33 - 60s - loss: 0.6025 - accuracy: 0.7391 - val_loss: 0.5520 - val_accuracy: 0.7286 - 60s/epoch - 2s/step\n",
      "Epoch 9/100\n",
      "33/33 - 60s - loss: 0.7176 - accuracy: 0.7702 - val_loss: 0.5340 - val_accuracy: 0.7286 - 60s/epoch - 2s/step\n",
      "Epoch 10/100\n",
      "33/33 - 60s - loss: 0.6061 - accuracy: 0.7329 - val_loss: 0.5657 - val_accuracy: 0.7571 - 60s/epoch - 2s/step\n",
      "Epoch 11/100\n",
      "33/33 - 61s - loss: 0.5283 - accuracy: 0.7640 - val_loss: 0.4776 - val_accuracy: 0.7714 - 61s/epoch - 2s/step\n",
      "Epoch 12/100\n",
      "33/33 - 60s - loss: 0.5553 - accuracy: 0.7453 - val_loss: 0.4721 - val_accuracy: 0.7286 - 60s/epoch - 2s/step\n",
      "Epoch 13/100\n",
      "33/33 - 61s - loss: 0.5380 - accuracy: 0.7640 - val_loss: 2.1176 - val_accuracy: 0.7286 - 61s/epoch - 2s/step\n",
      "Epoch 14/100\n",
      "33/33 - 61s - loss: 0.4708 - accuracy: 0.7888 - val_loss: 1.6456 - val_accuracy: 0.7571 - 61s/epoch - 2s/step\n",
      "Epoch 15/100\n",
      "33/33 - 63s - loss: 0.5814 - accuracy: 0.7764 - val_loss: 0.5049 - val_accuracy: 0.6714 - 63s/epoch - 2s/step\n",
      "Epoch 16/100\n",
      "33/33 - 62s - loss: 0.5064 - accuracy: 0.7578 - val_loss: 0.5055 - val_accuracy: 0.7571 - 62s/epoch - 2s/step\n",
      "Epoch 17/100\n",
      "33/33 - 62s - loss: 0.5804 - accuracy: 0.7764 - val_loss: 0.5010 - val_accuracy: 0.6857 - 62s/epoch - 2s/step\n",
      "Epoch 18/100\n",
      "33/33 - 61s - loss: 0.4938 - accuracy: 0.7702 - val_loss: 0.4887 - val_accuracy: 0.7286 - 61s/epoch - 2s/step\n",
      "Epoch 19/100\n",
      "33/33 - 62s - loss: 0.5186 - accuracy: 0.7950 - val_loss: 0.6211 - val_accuracy: 0.7429 - 62s/epoch - 2s/step\n",
      "Epoch 20/100\n",
      "33/33 - 62s - loss: 0.4961 - accuracy: 0.7516 - val_loss: 0.6402 - val_accuracy: 0.7143 - 62s/epoch - 2s/step\n",
      "Epoch 21/100\n",
      "33/33 - 62s - loss: 0.5209 - accuracy: 0.7516 - val_loss: 0.5330 - val_accuracy: 0.7286 - 62s/epoch - 2s/step\n",
      "Epoch 22/100\n",
      "33/33 - 61s - loss: 0.5209 - accuracy: 0.7640 - val_loss: 0.6097 - val_accuracy: 0.7714 - 61s/epoch - 2s/step\n",
      "Epoch 23/100\n",
      "33/33 - 61s - loss: 0.5428 - accuracy: 0.7826 - val_loss: 0.5042 - val_accuracy: 0.7143 - 61s/epoch - 2s/step\n",
      "Epoch 24/100\n",
      "33/33 - 61s - loss: 0.4235 - accuracy: 0.7702 - val_loss: 1.5750 - val_accuracy: 0.7429 - 61s/epoch - 2s/step\n",
      "Epoch 25/100\n",
      "33/33 - 61s - loss: 0.6939 - accuracy: 0.7702 - val_loss: 0.5727 - val_accuracy: 0.7286 - 61s/epoch - 2s/step\n",
      "Epoch 26/100\n",
      "33/33 - 62s - loss: 0.4591 - accuracy: 0.7826 - val_loss: 0.5479 - val_accuracy: 0.7286 - 62s/epoch - 2s/step\n",
      "Epoch 27/100\n",
      "33/33 - 61s - loss: 0.4398 - accuracy: 0.7888 - val_loss: 1.3912 - val_accuracy: 0.7429 - 61s/epoch - 2s/step\n",
      "Epoch 28/100\n",
      "33/33 - 61s - loss: 0.5001 - accuracy: 0.7826 - val_loss: 0.5787 - val_accuracy: 0.7429 - 61s/epoch - 2s/step\n",
      "Epoch 29/100\n",
      "33/33 - 61s - loss: 0.4446 - accuracy: 0.7826 - val_loss: 0.5747 - val_accuracy: 0.7571 - 61s/epoch - 2s/step\n",
      "Epoch 30/100\n",
      "33/33 - 61s - loss: 0.4349 - accuracy: 0.7702 - val_loss: 1.3317 - val_accuracy: 0.7714 - 61s/epoch - 2s/step\n",
      "Epoch 31/100\n",
      "33/33 - 61s - loss: 0.4389 - accuracy: 0.7888 - val_loss: 2.0834 - val_accuracy: 0.7571 - 61s/epoch - 2s/step\n",
      "Epoch 32/100\n",
      "33/33 - 61s - loss: 0.4461 - accuracy: 0.8075 - val_loss: 0.6174 - val_accuracy: 0.7571 - 61s/epoch - 2s/step\n",
      "Epoch 33/100\n",
      "33/33 - 61s - loss: 0.5098 - accuracy: 0.7888 - val_loss: 0.6189 - val_accuracy: 0.6857 - 61s/epoch - 2s/step\n",
      "Epoch 34/100\n",
      "33/33 - 61s - loss: 0.4796 - accuracy: 0.7578 - val_loss: 0.5356 - val_accuracy: 0.7143 - 61s/epoch - 2s/step\n",
      "Epoch 35/100\n",
      "33/33 - 61s - loss: 0.4959 - accuracy: 0.7950 - val_loss: 0.5212 - val_accuracy: 0.7857 - 61s/epoch - 2s/step\n",
      "Epoch 36/100\n",
      "33/33 - 61s - loss: 0.4400 - accuracy: 0.7764 - val_loss: 0.6119 - val_accuracy: 0.7143 - 61s/epoch - 2s/step\n",
      "Epoch 37/100\n",
      "33/33 - 61s - loss: 0.4326 - accuracy: 0.7888 - val_loss: 0.5409 - val_accuracy: 0.6857 - 61s/epoch - 2s/step\n",
      "Epoch 38/100\n",
      "33/33 - 61s - loss: 0.4638 - accuracy: 0.8137 - val_loss: 0.6310 - val_accuracy: 0.7429 - 61s/epoch - 2s/step\n",
      "Epoch 39/100\n",
      "33/33 - 61s - loss: 0.5027 - accuracy: 0.7888 - val_loss: 0.5005 - val_accuracy: 0.7143 - 61s/epoch - 2s/step\n",
      "Epoch 40/100\n",
      "33/33 - 61s - loss: 0.3889 - accuracy: 0.7950 - val_loss: 0.8737 - val_accuracy: 0.8000 - 61s/epoch - 2s/step\n",
      "Epoch 41/100\n",
      "33/33 - 61s - loss: 0.4718 - accuracy: 0.8012 - val_loss: 0.8612 - val_accuracy: 0.7714 - 61s/epoch - 2s/step\n",
      "Epoch 42/100\n",
      "33/33 - 60s - loss: 0.4643 - accuracy: 0.7888 - val_loss: 0.5947 - val_accuracy: 0.7143 - 60s/epoch - 2s/step\n",
      "Epoch 43/100\n",
      "33/33 - 59s - loss: 0.4442 - accuracy: 0.7888 - val_loss: 0.5314 - val_accuracy: 0.7000 - 59s/epoch - 2s/step\n",
      "Epoch 44/100\n",
      "33/33 - 59s - loss: 0.4006 - accuracy: 0.7764 - val_loss: 1.6696 - val_accuracy: 0.7286 - 59s/epoch - 2s/step\n",
      "Epoch 45/100\n",
      "33/33 - 63s - loss: 0.4162 - accuracy: 0.7888 - val_loss: 1.0586 - val_accuracy: 0.7857 - 63s/epoch - 2s/step\n",
      "Epoch 46/100\n",
      "33/33 - 61s - loss: 0.5225 - accuracy: 0.8385 - val_loss: 0.6735 - val_accuracy: 0.7000 - 61s/epoch - 2s/step\n",
      "Epoch 47/100\n",
      "33/33 - 61s - loss: 0.4445 - accuracy: 0.8261 - val_loss: 1.1050 - val_accuracy: 0.7143 - 61s/epoch - 2s/step\n",
      "Epoch 48/100\n",
      "33/33 - 62s - loss: 0.4320 - accuracy: 0.7950 - val_loss: 1.3570 - val_accuracy: 0.7714 - 62s/epoch - 2s/step\n",
      "Epoch 49/100\n",
      "33/33 - 62s - loss: 0.4634 - accuracy: 0.7888 - val_loss: 0.7662 - val_accuracy: 0.8000 - 62s/epoch - 2s/step\n",
      "Epoch 50/100\n",
      "33/33 - 62s - loss: 0.5643 - accuracy: 0.7950 - val_loss: 0.6531 - val_accuracy: 0.7857 - 62s/epoch - 2s/step\n",
      "Epoch 51/100\n",
      "33/33 - 62s - loss: 0.5967 - accuracy: 0.7764 - val_loss: 0.6408 - val_accuracy: 0.7714 - 62s/epoch - 2s/step\n",
      "Epoch 52/100\n",
      "33/33 - 61s - loss: 0.4701 - accuracy: 0.7888 - val_loss: 0.5860 - val_accuracy: 0.7143 - 61s/epoch - 2s/step\n",
      "Epoch 53/100\n",
      "33/33 - 61s - loss: 0.4526 - accuracy: 0.8199 - val_loss: 1.2208 - val_accuracy: 0.7857 - 61s/epoch - 2s/step\n",
      "Epoch 54/100\n",
      "33/33 - 62s - loss: 0.4945 - accuracy: 0.7578 - val_loss: 0.4830 - val_accuracy: 0.7857 - 62s/epoch - 2s/step\n",
      "Epoch 55/100\n",
      "33/33 - 64s - loss: 0.4686 - accuracy: 0.8012 - val_loss: 0.6031 - val_accuracy: 0.7857 - 64s/epoch - 2s/step\n",
      "Epoch 56/100\n",
      "33/33 - 63s - loss: 0.4402 - accuracy: 0.7826 - val_loss: 0.5633 - val_accuracy: 0.7429 - 63s/epoch - 2s/step\n",
      "Epoch 57/100\n",
      "33/33 - 63s - loss: 0.6862 - accuracy: 0.8199 - val_loss: 0.6111 - val_accuracy: 0.7571 - 63s/epoch - 2s/step\n",
      "Epoch 58/100\n",
      "33/33 - 63s - loss: 0.4195 - accuracy: 0.8199 - val_loss: 0.5941 - val_accuracy: 0.8000 - 63s/epoch - 2s/step\n",
      "Epoch 59/100\n",
      "33/33 - 63s - loss: 0.3805 - accuracy: 0.8137 - val_loss: 0.7399 - val_accuracy: 0.7857 - 63s/epoch - 2s/step\n",
      "Epoch 60/100\n",
      "33/33 - 62s - loss: 0.4870 - accuracy: 0.7702 - val_loss: 0.6231 - val_accuracy: 0.7571 - 62s/epoch - 2s/step\n",
      "Epoch 61/100\n",
      "33/33 - 62s - loss: 0.4965 - accuracy: 0.8075 - val_loss: 0.6246 - val_accuracy: 0.7286 - 62s/epoch - 2s/step\n",
      "Epoch 62/100\n",
      "33/33 - 61s - loss: 0.3913 - accuracy: 0.8137 - val_loss: 0.6566 - val_accuracy: 0.7143 - 61s/epoch - 2s/step\n",
      "Epoch 63/100\n",
      "33/33 - 61s - loss: 0.4283 - accuracy: 0.7888 - val_loss: 0.6061 - val_accuracy: 0.7286 - 61s/epoch - 2s/step\n",
      "Epoch 64/100\n",
      "33/33 - 61s - loss: 0.4140 - accuracy: 0.7950 - val_loss: 0.5470 - val_accuracy: 0.7429 - 61s/epoch - 2s/step\n",
      "Epoch 65/100\n",
      "33/33 - 60s - loss: 0.5166 - accuracy: 0.8199 - val_loss: 0.6851 - val_accuracy: 0.7857 - 60s/epoch - 2s/step\n",
      "Epoch 66/100\n",
      "33/33 - 61s - loss: 0.4061 - accuracy: 0.8199 - val_loss: 1.5314 - val_accuracy: 0.7714 - 61s/epoch - 2s/step\n",
      "Epoch 67/100\n",
      "33/33 - 60s - loss: 0.4189 - accuracy: 0.7950 - val_loss: 2.7839 - val_accuracy: 0.7286 - 60s/epoch - 2s/step\n"
     ]
    },
    {
     "name": "stdout",
     "output_type": "stream",
     "text": [
      "Epoch 68/100\n",
      "33/33 - 60s - loss: 0.4306 - accuracy: 0.8385 - val_loss: 0.8651 - val_accuracy: 0.6857 - 60s/epoch - 2s/step\n",
      "Epoch 69/100\n",
      "33/33 - 60s - loss: 0.3904 - accuracy: 0.8385 - val_loss: 0.8620 - val_accuracy: 0.7857 - 60s/epoch - 2s/step\n",
      "Epoch 70/100\n",
      "33/33 - 61s - loss: 0.3996 - accuracy: 0.8137 - val_loss: 0.8544 - val_accuracy: 0.7429 - 61s/epoch - 2s/step\n",
      "Epoch 71/100\n",
      "33/33 - 61s - loss: 0.4297 - accuracy: 0.8012 - val_loss: 0.5422 - val_accuracy: 0.7714 - 61s/epoch - 2s/step\n",
      "Epoch 72/100\n",
      "33/33 - 61s - loss: 0.4647 - accuracy: 0.8075 - val_loss: 0.6326 - val_accuracy: 0.7857 - 61s/epoch - 2s/step\n",
      "Epoch 73/100\n",
      "33/33 - 61s - loss: 0.3493 - accuracy: 0.8261 - val_loss: 0.9572 - val_accuracy: 0.7857 - 61s/epoch - 2s/step\n",
      "Epoch 74/100\n",
      "33/33 - 61s - loss: 0.5031 - accuracy: 0.7950 - val_loss: 1.0386 - val_accuracy: 0.7714 - 61s/epoch - 2s/step\n",
      "Epoch 75/100\n",
      "33/33 - 61s - loss: 0.4126 - accuracy: 0.8075 - val_loss: 1.3569 - val_accuracy: 0.7714 - 61s/epoch - 2s/step\n",
      "Epoch 76/100\n",
      "33/33 - 61s - loss: 0.4103 - accuracy: 0.7826 - val_loss: 0.8035 - val_accuracy: 0.7286 - 61s/epoch - 2s/step\n",
      "Epoch 77/100\n",
      "33/33 - 61s - loss: 0.3514 - accuracy: 0.8571 - val_loss: 1.1179 - val_accuracy: 0.7571 - 61s/epoch - 2s/step\n",
      "Epoch 78/100\n",
      "33/33 - 61s - loss: 0.4054 - accuracy: 0.8137 - val_loss: 0.8557 - val_accuracy: 0.7571 - 61s/epoch - 2s/step\n",
      "Epoch 79/100\n",
      "33/33 - 61s - loss: 0.4406 - accuracy: 0.8571 - val_loss: 1.0160 - val_accuracy: 0.7714 - 61s/epoch - 2s/step\n",
      "Epoch 80/100\n",
      "33/33 - 61s - loss: 0.6595 - accuracy: 0.8385 - val_loss: 1.0475 - val_accuracy: 0.6857 - 61s/epoch - 2s/step\n",
      "Epoch 81/100\n",
      "33/33 - 61s - loss: 0.4547 - accuracy: 0.8137 - val_loss: 1.2384 - val_accuracy: 0.7714 - 61s/epoch - 2s/step\n",
      "Epoch 82/100\n",
      "33/33 - 61s - loss: 0.4722 - accuracy: 0.8447 - val_loss: 0.8888 - val_accuracy: 0.8429 - 61s/epoch - 2s/step\n",
      "Epoch 83/100\n",
      "33/33 - 61s - loss: 0.4299 - accuracy: 0.7764 - val_loss: 1.5712 - val_accuracy: 0.5000 - 61s/epoch - 2s/step\n",
      "Epoch 84/100\n",
      "33/33 - 61s - loss: 0.4171 - accuracy: 0.7826 - val_loss: 0.7533 - val_accuracy: 0.7000 - 61s/epoch - 2s/step\n",
      "Epoch 85/100\n",
      "33/33 - 61s - loss: 0.3637 - accuracy: 0.8261 - val_loss: 0.9703 - val_accuracy: 0.7571 - 61s/epoch - 2s/step\n",
      "Epoch 86/100\n",
      "33/33 - 61s - loss: 0.5440 - accuracy: 0.8075 - val_loss: 0.7111 - val_accuracy: 0.7286 - 61s/epoch - 2s/step\n",
      "Epoch 87/100\n",
      "33/33 - 61s - loss: 0.3854 - accuracy: 0.8323 - val_loss: 0.5745 - val_accuracy: 0.7000 - 61s/epoch - 2s/step\n",
      "Epoch 88/100\n",
      "33/33 - 61s - loss: 0.4044 - accuracy: 0.7950 - val_loss: 1.2327 - val_accuracy: 0.7714 - 61s/epoch - 2s/step\n",
      "Epoch 89/100\n",
      "33/33 - 61s - loss: 0.4167 - accuracy: 0.8261 - val_loss: 1.3111 - val_accuracy: 0.6571 - 61s/epoch - 2s/step\n",
      "Epoch 90/100\n",
      "33/33 - 61s - loss: 0.4216 - accuracy: 0.7950 - val_loss: 1.1799 - val_accuracy: 0.7000 - 61s/epoch - 2s/step\n",
      "Epoch 91/100\n",
      "33/33 - 61s - loss: 0.3601 - accuracy: 0.8385 - val_loss: 0.8432 - val_accuracy: 0.7286 - 61s/epoch - 2s/step\n",
      "Epoch 92/100\n",
      "33/33 - 61s - loss: 0.4158 - accuracy: 0.8199 - val_loss: 0.8129 - val_accuracy: 0.7286 - 61s/epoch - 2s/step\n",
      "Epoch 93/100\n",
      "33/33 - 61s - loss: 0.4245 - accuracy: 0.8323 - val_loss: 2.7426 - val_accuracy: 0.7857 - 61s/epoch - 2s/step\n",
      "Epoch 94/100\n",
      "33/33 - 61s - loss: 0.4209 - accuracy: 0.8261 - val_loss: 1.0792 - val_accuracy: 0.7286 - 61s/epoch - 2s/step\n",
      "Epoch 95/100\n",
      "33/33 - 61s - loss: 0.3350 - accuracy: 0.8012 - val_loss: 1.8077 - val_accuracy: 0.7571 - 61s/epoch - 2s/step\n",
      "Epoch 96/100\n",
      "33/33 - 60s - loss: 0.3928 - accuracy: 0.8137 - val_loss: 1.0376 - val_accuracy: 0.6286 - 60s/epoch - 2s/step\n",
      "Epoch 97/100\n",
      "33/33 - 62s - loss: 0.3721 - accuracy: 0.8323 - val_loss: 0.9281 - val_accuracy: 0.7429 - 62s/epoch - 2s/step\n",
      "Epoch 98/100\n",
      "33/33 - 61s - loss: 0.5021 - accuracy: 0.8323 - val_loss: 0.9454 - val_accuracy: 0.7571 - 61s/epoch - 2s/step\n",
      "Epoch 99/100\n",
      "33/33 - 61s - loss: 0.3545 - accuracy: 0.8199 - val_loss: 1.7054 - val_accuracy: 0.7571 - 61s/epoch - 2s/step\n",
      "Epoch 100/100\n",
      "33/33 - 61s - loss: 0.4249 - accuracy: 0.7950 - val_loss: 1.1536 - val_accuracy: 0.7429 - 61s/epoch - 2s/step\n"
     ]
    }
   ],
   "source": [
    "history = model.fit(train_generator,\n",
    "                              validation_data=validation_generator,\n",
    "                              epochs=100,\n",
    "                              verbose=2)"
   ]
  },
  {
   "cell_type": "code",
   "execution_count": 7,
   "metadata": {},
   "outputs": [
    {
     "name": "stdout",
     "output_type": "stream",
     "text": [
      "Pérdida: 1.1536223888397217 / Precisión: 0.7428571581840515\n"
     ]
    }
   ],
   "source": [
    "resultado = model.evaluate(validation_generator, verbose=0)\n",
    "print(f'Pérdida: {resultado[0]} / Precisión: {resultado[1]}')"
   ]
  },
  {
   "cell_type": "code",
   "execution_count": 8,
   "metadata": {},
   "outputs": [
    {
     "data": {
      "image/png": "[encoded data removed]",
      "text/plain": [
       "<Figure size 432x288 with 1 Axes>"
      ]
     },
     "metadata": {
      "needs_background": "light"
     },
     "output_type": "display_data"
    },
    {
     "data": {
      "image/png": "[encoded data removed]",
      "text/plain": [
       "<Figure size 432x288 with 1 Axes>"
      ]
     },
     "metadata": {
      "needs_background": "light"
     },
     "output_type": "display_data"
    }
   ],
   "source": [
    "#-----------------------------------------------------------\n",
    "# Recupero los valores para dibujar las gráficas\n",
    "#-----------------------------------------------------------\n",
    "acc = history.history['accuracy']\n",
    "val_acc = history.history['val_accuracy']\n",
    "loss = history.history['loss']\n",
    "val_loss = history.history['val_loss']\n",
    "\n",
    "epochs = range(len(acc))\n",
    "\n",
    "#------------------------------------------------\n",
    "# Accuracy vs val_accuracy\n",
    "#------------------------------------------------\n",
    "plt.plot(epochs, acc, 'b', label='Training accuracy')\n",
    "plt.plot(epochs, val_acc, 'r', label='Validation accuracy')\n",
    "plt.title('accuracy vs val_accuracy')\n",
    "plt.legend()\n",
    "\n",
    "plt.figure()\n",
    "\n",
    "#------------------------------------------------\n",
    "# Loss vs val_loss\n",
    "#------------------------------------------------\n",
    "plt.plot(epochs, loss, 'b', label='Training Loss')\n",
    "plt.plot(epochs, val_loss, 'r', label='Validation Loss')\n",
    "plt.title('loss vs val_loss')\n",
    "plt.legend()\n",
    "\n",
    "plt.show()"
   ]
  },
  {
   "cell_type": "markdown",
   "metadata": {},
   "source": [
    "## Función de clasificación"
   ]
  },
  {
   "cell_type": "code",
   "execution_count": 9,
   "metadata": {},
   "outputs": [],
   "source": [
    "def clasificacion(path):\n",
    "    img=image.load_img(path, target_size=(150, 150))\n",
    "  \n",
    "    x=image.img_to_array(img)\n",
    "    x=np.expand_dims(x, axis=0)\n",
    "    images = np.vstack([x])\n",
    "  \n",
    "    classes = model.predict(images, batch_size=10)\n",
    "  \n",
    "    if classes[0]>0:\n",
    "        print(\"Está viva\")\n",
    "    else:\n",
    "        print(\"Está muerta\")"
   ]
  },
  {
   "cell_type": "markdown",
   "metadata": {},
   "source": [
    "# ----------------------------------------------------------------------------------------------------\n",
    "# Pruebas de clasificación\n",
    "# ----------------------------------------------------------------------------------------------------"
   ]
  },
  {
   "cell_type": "code",
   "execution_count": 10,
   "metadata": {
    "scrolled": true
   },
   "outputs": [
    {
     "name": "stdout",
     "output_type": "stream",
     "text": [
      "Está muerta\n"
     ]
    }
   ],
   "source": [
    "#Directorio que contiene una foto de una gallina, independientemente de su estado, para su clasificación\n",
    "path='C:/Users/Saul/Desktop/SAUL/INFORMATICA/UBU 4º/2º semestre/TFG/Fotos_Proyecto_Detección_de_Bajas/Prediccion/I_1.jpg'\n",
    "\n",
    "clasificacion(path)"
   ]
  },
  {
   "cell_type": "code",
   "execution_count": null,
   "metadata": {},
   "outputs": [],
   "source": []
  }
 ],
 "metadata": {
  "kernelspec": {
   "display_name": "Python 3",
   "language": "python",
   "name": "python3"
  },
  "language_info": {
   "codemirror_mode": {
    "name": "ipython",
    "version": 3
   },
   "file_extension": ".py",
   "mimetype": "text/x-python",
   "name": "python",
   "nbconvert_exporter": "python",
   "pygments_lexer": "ipython3",
   "version": "3.8.3"
  }
 },
 "nbformat": 4,
 "nbformat_minor": 4
}
