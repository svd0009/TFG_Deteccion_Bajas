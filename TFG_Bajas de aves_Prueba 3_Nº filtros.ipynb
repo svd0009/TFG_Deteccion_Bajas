{
 "cells": [
  {
   "cell_type": "markdown",
   "metadata": {},
   "source": [
    "# ---------------------------------------------------------------------------------------------------------\n",
    "# Librerías\n",
    "# ---------------------------------------------------------------------------------------------------------"
   ]
  },
  {
   "cell_type": "code",
   "execution_count": 1,
   "metadata": {},
   "outputs": [],
   "source": [
    "import urllib.request\n",
    "import os\n",
    "import zipfile\n",
    "\n",
    "import matplotlib.image as mpimg\n",
    "import matplotlib.pyplot as plt\n",
    "\n",
    "\n",
    "import tensorflow as tf\n",
    "\n",
    "from tensorflow.keras.optimizers import RMSprop\n",
    "from tensorflow.keras.preprocessing.image import ImageDataGenerator\n",
    "from tensorflow.keras.preprocessing import image\n",
    "\n",
    "\n",
    "import numpy as np"
   ]
  },
  {
   "cell_type": "markdown",
   "metadata": {},
   "source": [
    "## Ubicación de imágenes de modelo y de test."
   ]
  },
  {
   "cell_type": "code",
   "execution_count": 2,
   "metadata": {},
   "outputs": [],
   "source": [
    "#Directorio base\n",
    "base_dir = 'C:/Users/Saul/Desktop/SAUL/INFORMATICA/UBU 4º/2º semestre/TFG/Fotos_Proyecto_Detección_de_Bajas'\n",
    "\n",
    "train_dir = os.path.join(base_dir, 'Entrenamiento')\n",
    "validation_dir = os.path.join(base_dir, 'Validacion')\n",
    "\n",
    "# Directorio con las fotos de gallinas clasificadas\n",
    "train_alive_dir = os.path.join(train_dir, 'Gallinas_vivas')\n",
    "train_dead_dir = os.path.join(train_dir, 'Gallinas_muertas')\n",
    "\n",
    "# Directorio con las imágenes de modelo\n",
    "validation_alive_dir = os.path.join(validation_dir, 'Gallinas_vivas')\n",
    "validation_dead_dir = os.path.join(validation_dir, 'Gallinas_muertas')"
   ]
  },
  {
   "cell_type": "markdown",
   "metadata": {},
   "source": [
    "# ---------------------------------------------------------------------------------------------------------\n",
    "# PREPROCESAMIENTO DE LOS DATOS\n",
    "# ---------------------------------------------------------------------------------------------------------"
   ]
  },
  {
   "cell_type": "markdown",
   "metadata": {},
   "source": [
    "## Prueba nº3: Aumentar el nº de filtros dentro de cada capa de convolución"
   ]
  },
  {
   "cell_type": "code",
   "execution_count": 3,
   "metadata": {},
   "outputs": [],
   "source": [
    "model = tf.keras.models.Sequential([\n",
    "    # tf.keras.layers.Conv2D(filtros, tamaño_kernel, activacion, input_shape)\n",
    "    # input_size es la forma deseada de la imagen (150x150) con 3 bytes de color\n",
    "    # Bloque de convolución 1\n",
    "    tf.keras.layers.Conv2D(64, (3,3), activation='relu', input_shape=(150, 150, 3)),\n",
    "    tf.keras.layers.MaxPooling2D(2,2),\n",
    "    \n",
    "    # Bloque de convolución 2\n",
    "    tf.keras.layers.Conv2D(128, (3,3), activation='relu'),\n",
    "    tf.keras.layers.MaxPooling2D(2,2), \n",
    "    \n",
    "    # Bloque de convolución 3\n",
    "    tf.keras.layers.Conv2D(256, (3,3), activation='relu'), \n",
    "    tf.keras.layers.MaxPooling2D(2,2),\n",
    "    \n",
    "    # \"Aplana\" los resultados para pasárselos a una DNN (Deep neural network)\n",
    "    tf.keras.layers.Flatten(), \n",
    "    \n",
    "    # Neuronas de capa oculta: 512\n",
    "    tf.keras.layers.Dense(512, activation='relu')\n",
    "    , \n",
    "    # Neurona de salida que devuelve dos valores: 0 para gallinas muertas y 1 para gallinas vivas.\n",
    "    tf.keras.layers.Dense(1, activation='sigmoid')  \n",
    "])"
   ]
  },
  {
   "cell_type": "code",
   "execution_count": 4,
   "metadata": {},
   "outputs": [],
   "source": [
    "from tensorflow.keras.optimizers import RMSprop\n",
    "\n",
    "model.compile(optimizer=RMSprop(learning_rate=0.001),\n",
    "              loss='binary_crossentropy',\n",
    "              metrics = ['accuracy'])"
   ]
  },
  {
   "cell_type": "code",
   "execution_count": 5,
   "metadata": {},
   "outputs": [
    {
     "name": "stdout",
     "output_type": "stream",
     "text": [
      "Found 161 images belonging to 2 classes.\n",
      "Found 70 images belonging to 2 classes.\n"
     ]
    }
   ],
   "source": [
    "# DATA AUGMENTATION\n",
    "\n",
    "# Reescalado de imágenes a 1./255.\n",
    "train_datagen = ImageDataGenerator( rescale = 1.0/255. )\n",
    "test_datagen  = ImageDataGenerator( rescale = 1.0/255. )\n",
    "\n",
    "# ------------------------------------------------------------------------\n",
    "# Entrenamiento de las imágenes en lotes de 5 utilizando \"train_datagen\"\n",
    "# ------------------------------------------------------------------------\n",
    "train_generator = train_datagen.flow_from_directory(train_dir,\n",
    "                                                    batch_size=5,\n",
    "                                                    class_mode='binary',\n",
    "                                                    target_size=(150, 150))     \n",
    "\n",
    "# ------------------------------------------------------------------------\n",
    "# Validación de las imágenes en lotes de 5 utilizando \"test_datagen\"\n",
    "# ------------------------------------------------------------------------\n",
    "validation_generator =  test_datagen.flow_from_directory(validation_dir,\n",
    "                                                         batch_size=5,\n",
    "                                                         class_mode  = 'binary',\n",
    "                                                         target_size = (150, 150))"
   ]
  },
  {
   "cell_type": "markdown",
   "metadata": {},
   "source": [
    "## Entrenamiento"
   ]
  },
  {
   "cell_type": "code",
   "execution_count": 6,
   "metadata": {},
   "outputs": [
    {
     "name": "stdout",
     "output_type": "stream",
     "text": [
      "Epoch 1/25\n",
      "33/33 - 74s - loss: 2.7108 - accuracy: 0.7205 - val_loss: 0.5852 - val_accuracy: 0.7286 - 74s/epoch - 2s/step\n",
      "Epoch 2/25\n",
      "33/33 - 67s - loss: 0.6794 - accuracy: 0.7267 - val_loss: 0.6407 - val_accuracy: 0.7286 - 67s/epoch - 2s/step\n",
      "Epoch 3/25\n",
      "33/33 - 69s - loss: 0.7202 - accuracy: 0.7391 - val_loss: 0.5821 - val_accuracy: 0.7286 - 69s/epoch - 2s/step\n",
      "Epoch 4/25\n",
      "33/33 - 70s - loss: 0.5305 - accuracy: 0.7453 - val_loss: 0.5182 - val_accuracy: 0.7286 - 70s/epoch - 2s/step\n",
      "Epoch 5/25\n",
      "33/33 - 71s - loss: 0.4817 - accuracy: 0.7888 - val_loss: 0.5610 - val_accuracy: 0.7286 - 71s/epoch - 2s/step\n",
      "Epoch 6/25\n",
      "33/33 - 70s - loss: 0.3041 - accuracy: 0.8820 - val_loss: 1.1191 - val_accuracy: 0.7000 - 70s/epoch - 2s/step\n",
      "Epoch 7/25\n",
      "33/33 - 69s - loss: 0.2467 - accuracy: 0.8882 - val_loss: 0.7028 - val_accuracy: 0.7571 - 69s/epoch - 2s/step\n",
      "Epoch 8/25\n",
      "33/33 - 69s - loss: 0.2063 - accuracy: 0.9379 - val_loss: 0.6276 - val_accuracy: 0.7143 - 69s/epoch - 2s/step\n",
      "Epoch 9/25\n",
      "33/33 - 62s - loss: 0.2026 - accuracy: 0.9441 - val_loss: 0.6442 - val_accuracy: 0.7143 - 62s/epoch - 2s/step\n",
      "Epoch 10/25\n",
      "33/33 - 62s - loss: 0.1023 - accuracy: 0.9938 - val_loss: 1.2317 - val_accuracy: 0.7143 - 62s/epoch - 2s/step\n",
      "Epoch 11/25\n",
      "33/33 - 61s - loss: 0.0154 - accuracy: 0.9938 - val_loss: 1.3074 - val_accuracy: 0.7429 - 61s/epoch - 2s/step\n",
      "Epoch 12/25\n",
      "33/33 - 62s - loss: 0.1449 - accuracy: 0.9627 - val_loss: 1.3612 - val_accuracy: 0.6571 - 62s/epoch - 2s/step\n",
      "Epoch 13/25\n",
      "33/33 - 62s - loss: 0.0031 - accuracy: 1.0000 - val_loss: 1.7459 - val_accuracy: 0.7000 - 62s/epoch - 2s/step\n",
      "Epoch 14/25\n",
      "33/33 - 61s - loss: 1.2755e-04 - accuracy: 1.0000 - val_loss: 1.8954 - val_accuracy: 0.7000 - 61s/epoch - 2s/step\n",
      "Epoch 15/25\n",
      "33/33 - 61s - loss: 2.9082e-05 - accuracy: 1.0000 - val_loss: 2.3258 - val_accuracy: 0.7000 - 61s/epoch - 2s/step\n",
      "Epoch 16/25\n",
      "33/33 - 61s - loss: 4.2847e-06 - accuracy: 1.0000 - val_loss: 2.6215 - val_accuracy: 0.7143 - 61s/epoch - 2s/step\n",
      "Epoch 17/25\n",
      "33/33 - 62s - loss: 4.0357e-07 - accuracy: 1.0000 - val_loss: 2.6592 - val_accuracy: 0.7143 - 62s/epoch - 2s/step\n",
      "Epoch 18/25\n",
      "33/33 - 62s - loss: 9.4786e-08 - accuracy: 1.0000 - val_loss: 2.8888 - val_accuracy: 0.7143 - 62s/epoch - 2s/step\n",
      "Epoch 19/25\n",
      "33/33 - 62s - loss: 3.5130e-08 - accuracy: 1.0000 - val_loss: 3.0676 - val_accuracy: 0.7143 - 62s/epoch - 2s/step\n",
      "Epoch 20/25\n",
      "33/33 - 62s - loss: 1.3065 - accuracy: 0.9814 - val_loss: 3.3354 - val_accuracy: 0.5571 - 62s/epoch - 2s/step\n",
      "Epoch 21/25\n",
      "33/33 - 62s - loss: 0.0291 - accuracy: 0.9876 - val_loss: 1.4442 - val_accuracy: 0.7714 - 62s/epoch - 2s/step\n",
      "Epoch 22/25\n",
      "33/33 - 62s - loss: 2.0573e-04 - accuracy: 1.0000 - val_loss: 1.5807 - val_accuracy: 0.7714 - 62s/epoch - 2s/step\n",
      "Epoch 23/25\n",
      "33/33 - 61s - loss: 1.0441e-05 - accuracy: 1.0000 - val_loss: 1.6359 - val_accuracy: 0.7429 - 61s/epoch - 2s/step\n",
      "Epoch 24/25\n",
      "33/33 - 63s - loss: 4.6961e-06 - accuracy: 1.0000 - val_loss: 1.7637 - val_accuracy: 0.7429 - 63s/epoch - 2s/step\n",
      "Epoch 25/25\n",
      "33/33 - 64s - loss: 2.0253e-06 - accuracy: 1.0000 - val_loss: 1.9740 - val_accuracy: 0.7429 - 64s/epoch - 2s/step\n"
     ]
    }
   ],
   "source": [
    "history = model.fit(train_generator,\n",
    "                              validation_data=validation_generator,\n",
    "                              epochs=25,\n",
    "                              verbose=2)"
   ]
  },
  {
   "cell_type": "code",
   "execution_count": 7,
   "metadata": {},
   "outputs": [
    {
     "name": "stdout",
     "output_type": "stream",
     "text": [
      "Pérdida: 1.9740493297576904 / Precisión: 0.7428571581840515\n"
     ]
    }
   ],
   "source": [
    "resultado = model.evaluate(validation_generator, verbose=0)\n",
    "print(f'Pérdida: {resultado[0]} / Precisión: {resultado[1]}')"
   ]
  },
  {
   "cell_type": "code",
   "execution_count": 8,
   "metadata": {},
   "outputs": [
    {
     "data": {
      "image/png": "[encoded data removed]",
      "text/plain": [
       "<Figure size 432x288 with 1 Axes>"
      ]
     },
     "metadata": {
      "needs_background": "light"
     },
     "output_type": "display_data"
    },
    {
     "data": {
      "image/png": "[encoded data removed]",
      "text/plain": [
       "<Figure size 432x288 with 1 Axes>"
      ]
     },
     "metadata": {
      "needs_background": "light"
     },
     "output_type": "display_data"
    }
   ],
   "source": [
    "#-----------------------------------------------------------\n",
    "# Recupero los valores para dibujar las gráficas\n",
    "#-----------------------------------------------------------\n",
    "acc = history.history['accuracy']\n",
    "val_acc = history.history['val_accuracy']\n",
    "loss = history.history['loss']\n",
    "val_loss = history.history['val_loss']\n",
    "\n",
    "epochs = range(len(acc))\n",
    "\n",
    "#------------------------------------------------\n",
    "# Accuracy vs val_accuracy\n",
    "#------------------------------------------------\n",
    "plt.plot(epochs, acc, 'b', label='Training accuracy')\n",
    "plt.plot(epochs, val_acc, 'r', label='Validation accuracy')\n",
    "plt.title('accuracy vs val_accuracy')\n",
    "plt.legend()\n",
    "\n",
    "plt.figure()\n",
    "\n",
    "#------------------------------------------------\n",
    "# Loss vs val_loss\n",
    "#------------------------------------------------\n",
    "plt.plot(epochs, loss, 'b', label='Training Loss')\n",
    "plt.plot(epochs, val_loss, 'r', label='Validation Loss')\n",
    "plt.title('loss vs val_loss')\n",
    "plt.legend()\n",
    "\n",
    "plt.show()"
   ]
  },
  {
   "cell_type": "markdown",
   "metadata": {},
   "source": [
    "## Función de clasificación"
   ]
  },
  {
   "cell_type": "code",
   "execution_count": 9,
   "metadata": {},
   "outputs": [],
   "source": [
    "def clasificacion(path):\n",
    "    img=image.load_img(path, target_size=(150, 150))\n",
    "  \n",
    "    x=image.img_to_array(img)\n",
    "    x=np.expand_dims(x, axis=0)\n",
    "    images = np.vstack([x])\n",
    "  \n",
    "    classes = model.predict(images, batch_size=10)\n",
    "  \n",
    "    if classes[0]>0:\n",
    "        print(\"Está viva\")\n",
    "    else:\n",
    "        print(\"Está muerta\")"
   ]
  },
  {
   "cell_type": "markdown",
   "metadata": {},
   "source": [
    "# ----------------------------------------------------------------------------------------------------\n",
    "# Pruebas de clasificación\n",
    "# ----------------------------------------------------------------------------------------------------"
   ]
  },
  {
   "cell_type": "code",
   "execution_count": 10,
   "metadata": {
    "scrolled": true
   },
   "outputs": [
    {
     "name": "stdout",
     "output_type": "stream",
     "text": [
      "Está viva\n"
     ]
    }
   ],
   "source": [
    "#Directorio que contiene una foto de una gallina, independientemente de su estado, para su clasificación\n",
    "path='C:/Users/Saul/Desktop/SAUL/INFORMATICA/UBU 4º/2º semestre/TFG/Fotos_Proyecto_Detección_de_Bajas/Prediccion/I_1.jpg'\n",
    "\n",
    "clasificacion(path)"
   ]
  },
  {
   "cell_type": "code",
   "execution_count": null,
   "metadata": {},
   "outputs": [],
   "source": []
  }
 ],
 "metadata": {
  "kernelspec": {
   "display_name": "Python 3",
   "language": "python",
   "name": "python3"
  },
  "language_info": {
   "codemirror_mode": {
    "name": "ipython",
    "version": 3
   },
   "file_extension": ".py",
   "mimetype": "text/x-python",
   "name": "python",
   "nbconvert_exporter": "python",
   "pygments_lexer": "ipython3",
   "version": "3.8.3"
  }
 },
 "nbformat": 4,
 "nbformat_minor": 4
}
