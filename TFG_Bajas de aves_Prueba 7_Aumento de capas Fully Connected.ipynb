{
 "cells": [
  {
   "cell_type": "markdown",
   "metadata": {},
   "source": [
    "# ---------------------------------------------------------------------------------------------------------\n",
    "# Librerías\n",
    "# ---------------------------------------------------------------------------------------------------------"
   ]
  },
  {
   "cell_type": "code",
   "execution_count": 1,
   "metadata": {},
   "outputs": [],
   "source": [
    "import urllib.request\n",
    "import os\n",
    "import zipfile\n",
    "\n",
    "import matplotlib.image as mpimg\n",
    "import matplotlib.pyplot as plt\n",
    "\n",
    "\n",
    "import tensorflow as tf\n",
    "\n",
    "from tensorflow.keras.optimizers import RMSprop\n",
    "from tensorflow.keras.preprocessing.image import ImageDataGenerator\n",
    "from tensorflow.keras.preprocessing import image\n",
    "\n",
    "\n",
    "import numpy as np"
   ]
  },
  {
   "cell_type": "markdown",
   "metadata": {},
   "source": [
    "## Ubicación de imágenes de modelo y de test."
   ]
  },
  {
   "cell_type": "code",
   "execution_count": 2,
   "metadata": {},
   "outputs": [],
   "source": [
    "#Directorio base\n",
    "base_dir = 'C:/Users/Saul/Desktop/SAUL/INFORMATICA/UBU 4º/2º semestre/TFG/Fotos_Proyecto_Detección_de_Bajas'\n",
    "\n",
    "train_dir = os.path.join(base_dir, 'Entrenamiento')\n",
    "validation_dir = os.path.join(base_dir, 'Validacion')\n",
    "\n",
    "# Directorio con las fotos de gallinas clasificadas\n",
    "train_alive_dir = os.path.join(train_dir, 'Gallinas_vivas')\n",
    "train_dead_dir = os.path.join(train_dir, 'Gallinas_muertas')\n",
    "\n",
    "# Directorio con las imágenes de modelo\n",
    "validation_alive_dir = os.path.join(validation_dir, 'Gallinas_vivas')\n",
    "validation_dead_dir = os.path.join(validation_dir, 'Gallinas_muertas')"
   ]
  },
  {
   "cell_type": "markdown",
   "metadata": {},
   "source": [
    "# ---------------------------------------------------------------------------------------------------------\n",
    "# PREPROCESAMIENTO DE LOS DATOS\n",
    "# ---------------------------------------------------------------------------------------------------------"
   ]
  },
  {
   "cell_type": "markdown",
   "metadata": {},
   "source": [
    "### Prueba nº6: Aumentar el nº de neuronas de la capa oculta."
   ]
  },
  {
   "cell_type": "code",
   "execution_count": 3,
   "metadata": {},
   "outputs": [],
   "source": [
    "model = tf.keras.models.Sequential([\n",
    "    # tf.keras.layers.Conv2D(filtros, tamaño_kernel, activacion, input_shape)\n",
    "    # input_size es la forma deseada de la imagen (150x150) con 3 bytes de color\n",
    "    # Bloque de convolución 1\n",
    "    tf.keras.layers.Conv2D(100, (3,3), activation='relu', input_shape=(150, 150, 3)),\n",
    "    tf.keras.layers.MaxPooling2D(2,2),\n",
    "    \n",
    "    # Bloque de convolución 2\n",
    "    tf.keras.layers.Conv2D(100, (3,3), activation='relu'),\n",
    "    tf.keras.layers.MaxPooling2D(2,2), \n",
    "    \n",
    "    # Bloque de convolución 3\n",
    "    tf.keras.layers.Conv2D(100, (3,3), activation='relu'), \n",
    "    tf.keras.layers.MaxPooling2D(2,2),\n",
    "    \n",
    "    # \"Aplana\" los resultados para pasárselos a una DNN (Deep neural network)\n",
    "    tf.keras.layers.Flatten(), \n",
    "    \n",
    "    # Capas Fully connected\n",
    "    tf.keras.layers.Dense(500, activation='relu'),\n",
    "    tf.keras.layers.Dense(550, activation='relu'),\n",
    "    tf.keras.layers.Dense(600, activation='relu'),\n",
    "    tf.keras.layers.Dense(128, activation='relu'),\n",
    "    \n",
    "    # Neurona de salida que devuelve dos valores: 0 para gallinas muertas y 1 para gallinas vivas.\n",
    "    tf.keras.layers.Dense(1, activation='sigmoid')  \n",
    "])"
   ]
  },
  {
   "cell_type": "code",
   "execution_count": 4,
   "metadata": {},
   "outputs": [],
   "source": [
    "from tensorflow.keras.optimizers import RMSprop\n",
    "\n",
    "model.compile(optimizer=RMSprop(learning_rate=0.001),\n",
    "              loss='binary_crossentropy',\n",
    "              metrics = ['accuracy'])"
   ]
  },
  {
   "cell_type": "code",
   "execution_count": 5,
   "metadata": {},
   "outputs": [
    {
     "name": "stdout",
     "output_type": "stream",
     "text": [
      "Found 161 images belonging to 2 classes.\n",
      "Found 70 images belonging to 2 classes.\n"
     ]
    }
   ],
   "source": [
    "# Reescalado de imágenes a 1./255.\n",
    "train_datagen = ImageDataGenerator( rescale = 1.0/255. )\n",
    "test_datagen  = ImageDataGenerator( rescale = 1.0/255. )\n",
    "\n",
    "# ------------------------------------------------------------------------\n",
    "# Entrenamiento de las imágenes en lotes de 5 utilizando \"train_datagen\"\n",
    "# ------------------------------------------------------------------------\n",
    "train_generator = train_datagen.flow_from_directory(train_dir,\n",
    "                                                    batch_size=5,\n",
    "                                                    class_mode='binary',\n",
    "                                                    target_size=(150, 150))     \n",
    "\n",
    "# ------------------------------------------------------------------------\n",
    "# Validación de las imágenes en lotes de 5 utilizando \"test_datagen\"\n",
    "# ------------------------------------------------------------------------\n",
    "validation_generator =  test_datagen.flow_from_directory(validation_dir,\n",
    "                                                         batch_size=5,\n",
    "                                                         class_mode  = 'binary',\n",
    "                                                         target_size = (150, 150))"
   ]
  },
  {
   "cell_type": "markdown",
   "metadata": {},
   "source": [
    "## Entrenamiento"
   ]
  },
  {
   "cell_type": "code",
   "execution_count": 6,
   "metadata": {},
   "outputs": [
    {
     "name": "stdout",
     "output_type": "stream",
     "text": [
      "Epoch 1/25\n",
      "33/33 - 61s - loss: 0.8880 - accuracy: 0.7205 - val_loss: 0.6123 - val_accuracy: 0.7286 - 61s/epoch - 2s/step\n",
      "Epoch 2/25\n",
      "33/33 - 58s - loss: 0.6355 - accuracy: 0.7391 - val_loss: 0.6287 - val_accuracy: 0.7286 - 58s/epoch - 2s/step\n",
      "Epoch 3/25\n",
      "33/33 - 58s - loss: 0.8706 - accuracy: 0.7329 - val_loss: 0.6001 - val_accuracy: 0.7286 - 58s/epoch - 2s/step\n",
      "Epoch 4/25\n",
      "33/33 - 58s - loss: 0.5718 - accuracy: 0.7391 - val_loss: 0.5850 - val_accuracy: 0.7571 - 58s/epoch - 2s/step\n",
      "Epoch 5/25\n",
      "33/33 - 58s - loss: 0.5320 - accuracy: 0.8137 - val_loss: 0.4887 - val_accuracy: 0.7714 - 58s/epoch - 2s/step\n",
      "Epoch 6/25\n",
      "33/33 - 58s - loss: 0.3985 - accuracy: 0.8447 - val_loss: 0.5491 - val_accuracy: 0.7571 - 58s/epoch - 2s/step\n",
      "Epoch 7/25\n",
      "33/33 - 58s - loss: 0.3889 - accuracy: 0.8571 - val_loss: 1.1741 - val_accuracy: 0.7571 - 58s/epoch - 2s/step\n",
      "Epoch 8/25\n",
      "33/33 - 58s - loss: 0.3212 - accuracy: 0.8944 - val_loss: 0.7776 - val_accuracy: 0.7143 - 58s/epoch - 2s/step\n",
      "Epoch 9/25\n",
      "33/33 - 58s - loss: 0.2367 - accuracy: 0.9565 - val_loss: 0.5473 - val_accuracy: 0.7143 - 58s/epoch - 2s/step\n",
      "Epoch 10/25\n",
      "33/33 - 58s - loss: 0.2264 - accuracy: 0.9379 - val_loss: 0.7058 - val_accuracy: 0.7714 - 58s/epoch - 2s/step\n",
      "Epoch 11/25\n",
      "33/33 - 58s - loss: 0.3399 - accuracy: 0.9317 - val_loss: 0.5075 - val_accuracy: 0.7143 - 58s/epoch - 2s/step\n",
      "Epoch 12/25\n",
      "33/33 - 58s - loss: 0.0729 - accuracy: 0.9752 - val_loss: 0.8067 - val_accuracy: 0.7857 - 58s/epoch - 2s/step\n",
      "Epoch 13/25\n",
      "33/33 - 58s - loss: 0.1430 - accuracy: 0.9317 - val_loss: 1.2231 - val_accuracy: 0.7143 - 58s/epoch - 2s/step\n",
      "Epoch 14/25\n",
      "33/33 - 58s - loss: 0.3540 - accuracy: 0.9503 - val_loss: 1.6170 - val_accuracy: 0.7000 - 58s/epoch - 2s/step\n",
      "Epoch 15/25\n",
      "33/33 - 59s - loss: 0.0022 - accuracy: 1.0000 - val_loss: 2.7848 - val_accuracy: 0.7143 - 59s/epoch - 2s/step\n",
      "Epoch 16/25\n",
      "33/33 - 59s - loss: 1.0699e-05 - accuracy: 1.0000 - val_loss: 3.3219 - val_accuracy: 0.7143 - 59s/epoch - 2s/step\n",
      "Epoch 17/25\n",
      "33/33 - 58s - loss: 7.0475e-07 - accuracy: 1.0000 - val_loss: 3.7115 - val_accuracy: 0.7143 - 58s/epoch - 2s/step\n",
      "Epoch 18/25\n",
      "33/33 - 59s - loss: 5.1042e-08 - accuracy: 1.0000 - val_loss: 3.9035 - val_accuracy: 0.7286 - 59s/epoch - 2s/step\n",
      "Epoch 19/25\n",
      "33/33 - 58s - loss: 1.5082e-08 - accuracy: 1.0000 - val_loss: 4.1986 - val_accuracy: 0.7429 - 58s/epoch - 2s/step\n",
      "Epoch 20/25\n",
      "33/33 - 58s - loss: 4.0381e-09 - accuracy: 1.0000 - val_loss: 4.4641 - val_accuracy: 0.7429 - 58s/epoch - 2s/step\n",
      "Epoch 21/25\n",
      "33/33 - 58s - loss: 1.4645e-09 - accuracy: 1.0000 - val_loss: 4.6144 - val_accuracy: 0.7429 - 58s/epoch - 2s/step\n",
      "Epoch 22/25\n",
      "33/33 - 59s - loss: 7.3963e-10 - accuracy: 1.0000 - val_loss: 4.7645 - val_accuracy: 0.7429 - 59s/epoch - 2s/step\n",
      "Epoch 23/25\n",
      "33/33 - 58s - loss: 4.1161e-10 - accuracy: 1.0000 - val_loss: 4.8590 - val_accuracy: 0.7429 - 58s/epoch - 2s/step\n",
      "Epoch 24/25\n",
      "33/33 - 58s - loss: 3.7611e-10 - accuracy: 1.0000 - val_loss: 4.9380 - val_accuracy: 0.7429 - 58s/epoch - 2s/step\n",
      "Epoch 25/25\n",
      "33/33 - 58s - loss: 3.6129e-10 - accuracy: 1.0000 - val_loss: 4.9994 - val_accuracy: 0.7429 - 58s/epoch - 2s/step\n"
     ]
    }
   ],
   "source": [
    "history = model.fit(train_generator,\n",
    "                              validation_data=validation_generator,\n",
    "                              epochs=25,\n",
    "                              verbose=2)"
   ]
  },
  {
   "cell_type": "code",
   "execution_count": 7,
   "metadata": {},
   "outputs": [
    {
     "name": "stdout",
     "output_type": "stream",
     "text": [
      "Pérdida: 4.999392986297607 / Precisión: 0.7428571581840515\n"
     ]
    }
   ],
   "source": [
    "resultado = model.evaluate(validation_generator, verbose=0)\n",
    "print(f'Pérdida: {resultado[0]} / Precisión: {resultado[1]}')"
   ]
  },
  {
   "cell_type": "code",
   "execution_count": 8,
   "metadata": {},
   "outputs": [
    {
     "data": {
      "image/png": "[encoded data removed]",
      "text/plain": [
       "<Figure size 432x288 with 1 Axes>"
      ]
     },
     "metadata": {
      "needs_background": "light"
     },
     "output_type": "display_data"
    },
    {
     "data": {
      "image/png": "[encoded data removed]",
      "text/plain": [
       "<Figure size 432x288 with 1 Axes>"
      ]
     },
     "metadata": {
      "needs_background": "light"
     },
     "output_type": "display_data"
    }
   ],
   "source": [
    "#-----------------------------------------------------------\n",
    "# Recupero los valores para dibujar las gráficas\n",
    "#-----------------------------------------------------------\n",
    "acc = history.history['accuracy']\n",
    "val_acc = history.history['val_accuracy']\n",
    "loss = history.history['loss']\n",
    "val_loss = history.history['val_loss']\n",
    "\n",
    "epochs = range(len(acc))\n",
    "\n",
    "#------------------------------------------------\n",
    "# Accuracy vs val_accuracy\n",
    "#------------------------------------------------\n",
    "plt.plot(epochs, acc, 'b', label='Training accuracy')\n",
    "plt.plot(epochs, val_acc, 'r', label='Validation accuracy')\n",
    "plt.title('accuracy vs val_accuracy')\n",
    "plt.legend()\n",
    "\n",
    "plt.figure()\n",
    "\n",
    "#------------------------------------------------\n",
    "# Loss vs val_loss\n",
    "#------------------------------------------------\n",
    "plt.plot(epochs, loss, 'b', label='Training Loss')\n",
    "plt.plot(epochs, val_loss, 'r', label='Validation Loss')\n",
    "plt.title('loss vs val_loss')\n",
    "plt.legend()\n",
    "\n",
    "plt.show()"
   ]
  },
  {
   "cell_type": "markdown",
   "metadata": {},
   "source": [
    "## Función de clasificación"
   ]
  },
  {
   "cell_type": "code",
   "execution_count": 9,
   "metadata": {},
   "outputs": [],
   "source": [
    "def clasificacion(path):\n",
    "    img=image.load_img(path, target_size=(150, 150))\n",
    "  \n",
    "    x=image.img_to_array(img)\n",
    "    x=np.expand_dims(x, axis=0)\n",
    "    images = np.vstack([x])\n",
    "  \n",
    "    classes = model.predict(images, batch_size=10)\n",
    "  \n",
    "    if classes[0]>0:\n",
    "        print(\"Está viva\")\n",
    "    else:\n",
    "        print(\"Está muerta\")"
   ]
  },
  {
   "cell_type": "markdown",
   "metadata": {},
   "source": [
    "# ----------------------------------------------------------------------------------------------------\n",
    "# Pruebas de clasificación\n",
    "# ----------------------------------------------------------------------------------------------------"
   ]
  },
  {
   "cell_type": "code",
   "execution_count": 10,
   "metadata": {
    "scrolled": true
   },
   "outputs": [
    {
     "name": "stdout",
     "output_type": "stream",
     "text": [
      "Está viva\n"
     ]
    }
   ],
   "source": [
    "#Directorio que contiene una foto de una gallina, independientemente de su estado, para su clasificación\n",
    "path='C:/Users/Saul/Desktop/SAUL/INFORMATICA/UBU 4º/2º semestre/TFG/Fotos_Proyecto_Detección_de_Bajas/Prediccion/I_1.jpg'\n",
    "\n",
    "clasificacion(path)"
   ]
  },
  {
   "cell_type": "code",
   "execution_count": null,
   "metadata": {},
   "outputs": [],
   "source": []
  }
 ],
 "metadata": {
  "kernelspec": {
   "display_name": "Python 3",
   "language": "python",
   "name": "python3"
  },
  "language_info": {
   "codemirror_mode": {
    "name": "ipython",
    "version": 3
   },
   "file_extension": ".py",
   "mimetype": "text/x-python",
   "name": "python",
   "nbconvert_exporter": "python",
   "pygments_lexer": "ipython3",
   "version": "3.8.3"
  }
 },
 "nbformat": 4,
 "nbformat_minor": 4
}
