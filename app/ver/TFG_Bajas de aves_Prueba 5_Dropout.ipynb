{
 "cells": [
  {
   "cell_type": "markdown",
   "metadata": {},
   "source": [
    "# ---------------------------------------------------------------------------------------------------------\n",
    "# Librerías\n",
    "# ---------------------------------------------------------------------------------------------------------"
   ]
  },
  {
   "cell_type": "code",
   "execution_count": 1,
   "metadata": {},
   "outputs": [],
   "source": [
    "import urllib.request\n",
    "import os\n",
    "import zipfile\n",
    "\n",
    "import matplotlib.image as mpimg\n",
    "import matplotlib.pyplot as plt\n",
    "\n",
    "\n",
    "import tensorflow as tf\n",
    "\n",
    "from tensorflow.keras.optimizers import RMSprop\n",
    "from tensorflow.keras.preprocessing.image import ImageDataGenerator\n",
    "from tensorflow.keras.preprocessing import image\n",
    "\n",
    "\n",
    "import numpy as np"
   ]
  },
  {
   "cell_type": "markdown",
   "metadata": {},
   "source": [
    "## Ubicación de imágenes de modelo y de test."
   ]
  },
  {
   "cell_type": "code",
   "execution_count": 2,
   "metadata": {},
   "outputs": [],
   "source": [
    "#Directorio base\n",
    "base_dir = 'C:/Users/Saul/Desktop/SAUL/INFORMATICA/UBU 4º/2º semestre/TFG/Fotos_Proyecto_Detección_de_Bajas'\n",
    "\n",
    "train_dir = os.path.join(base_dir, 'Entrenamiento')\n",
    "validation_dir = os.path.join(base_dir, 'Validacion')\n",
    "\n",
    "# Directorio con las fotos de gallinas clasificadas\n",
    "train_alive_dir = os.path.join(train_dir, 'Gallinas_vivas')\n",
    "train_dead_dir = os.path.join(train_dir, 'Gallinas_muertas')\n",
    "\n",
    "# Directorio con las imágenes de modelo\n",
    "validation_alive_dir = os.path.join(validation_dir, 'Gallinas_vivas')\n",
    "validation_dead_dir = os.path.join(validation_dir, 'Gallinas_muertas')"
   ]
  },
  {
   "cell_type": "markdown",
   "metadata": {},
   "source": [
    "# ---------------------------------------------------------------------------------------------------------\n",
    "# PREPROCESAMIENTO DE LOS DATOS\n",
    "# ---------------------------------------------------------------------------------------------------------"
   ]
  },
  {
   "cell_type": "markdown",
   "metadata": {},
   "source": [
    "### Prueba nº5: Regularizaciones entre bloques de convolución (dropout)"
   ]
  },
  {
   "cell_type": "code",
   "execution_count": 3,
   "metadata": {},
   "outputs": [],
   "source": [
    "model = tf.keras.models.Sequential([\n",
    "    # tf.keras.layers.Conv2D(filtros, tamaño_kernel, activacion, input_shape)\n",
    "    # input_size es la forma deseada de la imagen (150x150) con 3 bytes de color\n",
    "    # Bloque de convolución 1\n",
    "    tf.keras.layers.Conv2D(100, (3,3), activation='relu', input_shape=(150, 150, 3)),\n",
    "    tf.keras.layers.MaxPooling2D(2,2),\n",
    "    tf.keras.layers.Dropout(0.25),\n",
    "    \n",
    "    # Bloque de convolución 2\n",
    "    tf.keras.layers.Conv2D(100, (3,3), activation='relu'),\n",
    "    tf.keras.layers.MaxPooling2D(2,2), \n",
    "    tf.keras.layers.Dropout(0.25),\n",
    "    \n",
    "    # Bloque de convolución 3\n",
    "    tf.keras.layers.Conv2D(100, (3,3), activation='relu'), \n",
    "    tf.keras.layers.MaxPooling2D(2,2),\n",
    "    tf.keras.layers.Dropout(0.25),\n",
    "    \n",
    "    # \"Aplana\" los resultados para pasárselos a una DNN (Deep neural network)\n",
    "    tf.keras.layers.Flatten(), \n",
    "    \n",
    "    # Neuronas de capa oculta: 512\n",
    "    tf.keras.layers.Dense(512, activation='relu')\n",
    "    , \n",
    "    # Neurona de salida que devuelve dos valores: 0 para gallinas muertas y 1 para gallinas vivas.\n",
    "    tf.keras.layers.Dense(1, activation='sigmoid')  \n",
    "])"
   ]
  },
  {
   "cell_type": "code",
   "execution_count": 4,
   "metadata": {},
   "outputs": [],
   "source": [
    "from tensorflow.keras.optimizers import RMSprop\n",
    "\n",
    "model.compile(optimizer=RMSprop(learning_rate=0.001),\n",
    "              loss='binary_crossentropy',\n",
    "              metrics = ['accuracy'])"
   ]
  },
  {
   "cell_type": "code",
   "execution_count": 5,
   "metadata": {},
   "outputs": [
    {
     "name": "stdout",
     "output_type": "stream",
     "text": [
      "Found 161 images belonging to 2 classes.\n",
      "Found 70 images belonging to 2 classes.\n"
     ]
    }
   ],
   "source": [
    "# Reescalado de imágenes a 1./255.\n",
    "train_datagen = ImageDataGenerator( rescale = 1.0/255. )\n",
    "test_datagen  = ImageDataGenerator( rescale = 1.0/255. )\n",
    "\n",
    "# ------------------------------------------------------------------------\n",
    "# Entrenamiento de las imágenes en lotes de 5 utilizando \"train_datagen\"\n",
    "# ------------------------------------------------------------------------\n",
    "train_generator = train_datagen.flow_from_directory(train_dir,\n",
    "                                                    batch_size=5,\n",
    "                                                    class_mode='binary',\n",
    "                                                    target_size=(150, 150))     \n",
    "\n",
    "# ------------------------------------------------------------------------\n",
    "# Validación de las imágenes en lotes de 5 utilizando \"test_datagen\"\n",
    "# ------------------------------------------------------------------------\n",
    "validation_generator =  test_datagen.flow_from_directory(validation_dir,\n",
    "                                                         batch_size=5,\n",
    "                                                         class_mode  = 'binary',\n",
    "                                                         target_size = (150, 150))"
   ]
  },
  {
   "cell_type": "markdown",
   "metadata": {},
   "source": [
    "## Entrenamiento"
   ]
  },
  {
   "cell_type": "code",
   "execution_count": 6,
   "metadata": {},
   "outputs": [
    {
     "name": "stdout",
     "output_type": "stream",
     "text": [
      "Epoch 1/100\n",
      "33/33 - 63s - loss: 1.2112 - accuracy: 0.6957 - val_loss: 0.5974 - val_accuracy: 0.7286 - 63s/epoch - 2s/step\n",
      "Epoch 2/100\n",
      "33/33 - 61s - loss: 0.6923 - accuracy: 0.7205 - val_loss: 0.6061 - val_accuracy: 0.7286 - 61s/epoch - 2s/step\n",
      "Epoch 3/100\n",
      "33/33 - 59s - loss: 0.6430 - accuracy: 0.7950 - val_loss: 0.5475 - val_accuracy: 0.7571 - 59s/epoch - 2s/step\n",
      "Epoch 4/100\n",
      "33/33 - 59s - loss: 0.4995 - accuracy: 0.7888 - val_loss: 2.4206 - val_accuracy: 0.7286 - 59s/epoch - 2s/step\n",
      "Epoch 5/100\n",
      "33/33 - 59s - loss: 0.6390 - accuracy: 0.8323 - val_loss: 0.4352 - val_accuracy: 0.7429 - 59s/epoch - 2s/step\n",
      "Epoch 6/100\n",
      "33/33 - 59s - loss: 0.5043 - accuracy: 0.8137 - val_loss: 0.4945 - val_accuracy: 0.7429 - 59s/epoch - 2s/step\n",
      "Epoch 7/100\n",
      "33/33 - 60s - loss: 0.4793 - accuracy: 0.7764 - val_loss: 0.5319 - val_accuracy: 0.7571 - 60s/epoch - 2s/step\n",
      "Epoch 8/100\n",
      "33/33 - 59s - loss: 0.3181 - accuracy: 0.8571 - val_loss: 0.5632 - val_accuracy: 0.7857 - 59s/epoch - 2s/step\n",
      "Epoch 9/100\n",
      "33/33 - 59s - loss: 0.2953 - accuracy: 0.8758 - val_loss: 0.5407 - val_accuracy: 0.6571 - 59s/epoch - 2s/step\n",
      "Epoch 10/100\n",
      "33/33 - 59s - loss: 0.3147 - accuracy: 0.9068 - val_loss: 0.5856 - val_accuracy: 0.7429 - 59s/epoch - 2s/step\n",
      "Epoch 11/100\n",
      "33/33 - 59s - loss: 0.2365 - accuracy: 0.9317 - val_loss: 1.2517 - val_accuracy: 0.7000 - 59s/epoch - 2s/step\n",
      "Epoch 12/100\n",
      "33/33 - 59s - loss: 0.2279 - accuracy: 0.9193 - val_loss: 0.6802 - val_accuracy: 0.6857 - 59s/epoch - 2s/step\n",
      "Epoch 13/100\n",
      "33/33 - 59s - loss: 0.0552 - accuracy: 0.9876 - val_loss: 0.7512 - val_accuracy: 0.7857 - 59s/epoch - 2s/step\n",
      "Epoch 14/100\n",
      "33/33 - 59s - loss: 0.0748 - accuracy: 0.9876 - val_loss: 5.4786 - val_accuracy: 0.7286 - 59s/epoch - 2s/step\n",
      "Epoch 15/100\n",
      "33/33 - 59s - loss: 0.2494 - accuracy: 0.9752 - val_loss: 0.7322 - val_accuracy: 0.7857 - 59s/epoch - 2s/step\n",
      "Epoch 16/100\n",
      "33/33 - 59s - loss: 0.0251 - accuracy: 0.9876 - val_loss: 0.9605 - val_accuracy: 0.7857 - 59s/epoch - 2s/step\n",
      "Epoch 17/100\n",
      "33/33 - 59s - loss: 2.0748e-04 - accuracy: 1.0000 - val_loss: 1.0339 - val_accuracy: 0.7714 - 59s/epoch - 2s/step\n",
      "Epoch 18/100\n",
      "33/33 - 59s - loss: 0.0827 - accuracy: 0.9876 - val_loss: 5.5435 - val_accuracy: 0.7429 - 59s/epoch - 2s/step\n",
      "Epoch 19/100\n",
      "33/33 - 59s - loss: 0.3180 - accuracy: 0.9565 - val_loss: 1.0143 - val_accuracy: 0.7714 - 59s/epoch - 2s/step\n",
      "Epoch 20/100\n",
      "33/33 - 59s - loss: 2.5036e-04 - accuracy: 1.0000 - val_loss: 1.0248 - val_accuracy: 0.7714 - 59s/epoch - 2s/step\n",
      "Epoch 21/100\n",
      "33/33 - 59s - loss: 7.8946e-04 - accuracy: 1.0000 - val_loss: 1.0161 - val_accuracy: 0.8000 - 59s/epoch - 2s/step\n",
      "Epoch 22/100\n",
      "33/33 - 59s - loss: 2.2232e-05 - accuracy: 1.0000 - val_loss: 1.2039 - val_accuracy: 0.8143 - 59s/epoch - 2s/step\n",
      "Epoch 23/100\n",
      "33/33 - 59s - loss: 0.0013 - accuracy: 1.0000 - val_loss: 3.3324 - val_accuracy: 0.5429 - 59s/epoch - 2s/step\n",
      "Epoch 24/100\n",
      "33/33 - 59s - loss: 0.2660 - accuracy: 0.9565 - val_loss: 1.7056 - val_accuracy: 0.7429 - 59s/epoch - 2s/step\n",
      "Epoch 25/100\n",
      "33/33 - 59s - loss: 1.6839e-04 - accuracy: 1.0000 - val_loss: 1.5306 - val_accuracy: 0.7143 - 59s/epoch - 2s/step\n",
      "Epoch 26/100\n",
      "33/33 - 59s - loss: 2.0839e-05 - accuracy: 1.0000 - val_loss: 1.5830 - val_accuracy: 0.7429 - 59s/epoch - 2s/step\n",
      "Epoch 27/100\n",
      "33/33 - 59s - loss: 1.0877e-05 - accuracy: 1.0000 - val_loss: 1.6746 - val_accuracy: 0.7714 - 59s/epoch - 2s/step\n",
      "Epoch 28/100\n",
      "33/33 - 59s - loss: 9.9463e-07 - accuracy: 1.0000 - val_loss: 1.7745 - val_accuracy: 0.7714 - 59s/epoch - 2s/step\n",
      "Epoch 29/100\n",
      "33/33 - 59s - loss: 1.6905e-07 - accuracy: 1.0000 - val_loss: 1.8186 - val_accuracy: 0.7714 - 59s/epoch - 2s/step\n",
      "Epoch 30/100\n",
      "33/33 - 59s - loss: 6.6567e-08 - accuracy: 1.0000 - val_loss: 1.9065 - val_accuracy: 0.7571 - 59s/epoch - 2s/step\n",
      "Epoch 31/100\n",
      "33/33 - 59s - loss: 1.4150e-08 - accuracy: 1.0000 - val_loss: 1.9062 - val_accuracy: 0.7857 - 59s/epoch - 2s/step\n",
      "Epoch 32/100\n",
      "33/33 - 59s - loss: 7.0620e-08 - accuracy: 1.0000 - val_loss: 1.6046 - val_accuracy: 0.7571 - 59s/epoch - 2s/step\n",
      "Epoch 33/100\n",
      "33/33 - 59s - loss: 0.5093 - accuracy: 0.9938 - val_loss: 5.0625 - val_accuracy: 0.6571 - 59s/epoch - 2s/step\n",
      "Epoch 34/100\n",
      "33/33 - 60s - loss: 0.2603 - accuracy: 0.9689 - val_loss: 2.4637 - val_accuracy: 0.7000 - 60s/epoch - 2s/step\n",
      "Epoch 35/100\n",
      "33/33 - 60s - loss: 0.0319 - accuracy: 0.9938 - val_loss: 4.1607 - val_accuracy: 0.6571 - 60s/epoch - 2s/step\n",
      "Epoch 36/100\n",
      "33/33 - 60s - loss: 0.0558 - accuracy: 0.9752 - val_loss: 2.8125 - val_accuracy: 0.6857 - 60s/epoch - 2s/step\n",
      "Epoch 37/100\n",
      "33/33 - 61s - loss: 0.0046 - accuracy: 1.0000 - val_loss: 2.1401 - val_accuracy: 0.7857 - 61s/epoch - 2s/step\n",
      "Epoch 38/100\n",
      "33/33 - 60s - loss: 0.1101 - accuracy: 0.9752 - val_loss: 2.1100 - val_accuracy: 0.7286 - 60s/epoch - 2s/step\n",
      "Epoch 39/100\n",
      "33/33 - 59s - loss: 0.1780 - accuracy: 0.9752 - val_loss: 2.2644 - val_accuracy: 0.7429 - 59s/epoch - 2s/step\n",
      "Epoch 40/100\n",
      "33/33 - 61s - loss: 0.0113 - accuracy: 0.9938 - val_loss: 3.0122 - val_accuracy: 0.6571 - 61s/epoch - 2s/step\n",
      "Epoch 41/100\n",
      "33/33 - 61s - loss: 0.1280 - accuracy: 0.9814 - val_loss: 2.6170 - val_accuracy: 0.6857 - 61s/epoch - 2s/step\n",
      "Epoch 42/100\n",
      "33/33 - 61s - loss: 0.0061 - accuracy: 1.0000 - val_loss: 1.9117 - val_accuracy: 0.7143 - 61s/epoch - 2s/step\n",
      "Epoch 43/100\n",
      "33/33 - 61s - loss: 0.0578 - accuracy: 0.9814 - val_loss: 2.0916 - val_accuracy: 0.7143 - 61s/epoch - 2s/step\n",
      "Epoch 44/100\n",
      "33/33 - 61s - loss: 0.0016 - accuracy: 1.0000 - val_loss: 3.0464 - val_accuracy: 0.7429 - 61s/epoch - 2s/step\n",
      "Epoch 45/100\n",
      "33/33 - 60s - loss: 1.0191e-04 - accuracy: 1.0000 - val_loss: 2.7579 - val_accuracy: 0.7286 - 60s/epoch - 2s/step\n",
      "Epoch 46/100\n",
      "33/33 - 60s - loss: 9.0156e-05 - accuracy: 1.0000 - val_loss: 2.3963 - val_accuracy: 0.7571 - 60s/epoch - 2s/step\n",
      "Epoch 47/100\n",
      "33/33 - 59s - loss: 2.8244e-08 - accuracy: 1.0000 - val_loss: 2.4006 - val_accuracy: 0.7571 - 59s/epoch - 2s/step\n",
      "Epoch 48/100\n",
      "33/33 - 60s - loss: 9.3052e-08 - accuracy: 1.0000 - val_loss: 2.4070 - val_accuracy: 0.7714 - 60s/epoch - 2s/step\n",
      "Epoch 49/100\n",
      "33/33 - 60s - loss: 0.0102 - accuracy: 0.9938 - val_loss: 2.6279 - val_accuracy: 0.7286 - 60s/epoch - 2s/step\n",
      "Epoch 50/100\n",
      "33/33 - 60s - loss: 7.2257e-04 - accuracy: 1.0000 - val_loss: 2.8902 - val_accuracy: 0.7571 - 60s/epoch - 2s/step\n",
      "Epoch 51/100\n",
      "33/33 - 61s - loss: 6.2263e-08 - accuracy: 1.0000 - val_loss: 2.8836 - val_accuracy: 0.7571 - 61s/epoch - 2s/step\n",
      "Epoch 52/100\n",
      "33/33 - 60s - loss: 3.8681e-08 - accuracy: 1.0000 - val_loss: 2.8869 - val_accuracy: 0.7571 - 60s/epoch - 2s/step\n",
      "Epoch 53/100\n",
      "33/33 - 59s - loss: 1.3832e-07 - accuracy: 1.0000 - val_loss: 2.9171 - val_accuracy: 0.7571 - 59s/epoch - 2s/step\n",
      "Epoch 54/100\n",
      "33/33 - 59s - loss: 2.4533e-08 - accuracy: 1.0000 - val_loss: 2.9252 - val_accuracy: 0.7571 - 59s/epoch - 2s/step\n",
      "Epoch 55/100\n",
      "33/33 - 59s - loss: 2.7547e-08 - accuracy: 1.0000 - val_loss: 2.9130 - val_accuracy: 0.7429 - 59s/epoch - 2s/step\n",
      "Epoch 56/100\n",
      "33/33 - 59s - loss: 1.6909e-10 - accuracy: 1.0000 - val_loss: 2.9132 - val_accuracy: 0.7429 - 59s/epoch - 2s/step\n",
      "Epoch 57/100\n",
      "33/33 - 60s - loss: 2.0418e-09 - accuracy: 1.0000 - val_loss: 3.0749 - val_accuracy: 0.7571 - 60s/epoch - 2s/step\n",
      "Epoch 58/100\n",
      "33/33 - 61s - loss: 1.1763e-09 - accuracy: 1.0000 - val_loss: 3.1224 - val_accuracy: 0.7571 - 61s/epoch - 2s/step\n",
      "Epoch 59/100\n",
      "33/33 - 60s - loss: 5.0783e-11 - accuracy: 1.0000 - val_loss: 3.1166 - val_accuracy: 0.7571 - 60s/epoch - 2s/step\n",
      "Epoch 60/100\n",
      "33/33 - 59s - loss: 3.7335e-11 - accuracy: 1.0000 - val_loss: 3.1166 - val_accuracy: 0.7571 - 59s/epoch - 2s/step\n",
      "Epoch 61/100\n",
      "33/33 - 59s - loss: 3.6658e-10 - accuracy: 1.0000 - val_loss: 3.2869 - val_accuracy: 0.7571 - 59s/epoch - 2s/step\n",
      "Epoch 62/100\n",
      "33/33 - 60s - loss: 2.7272e-10 - accuracy: 1.0000 - val_loss: 3.3121 - val_accuracy: 0.7571 - 60s/epoch - 2s/step\n",
      "Epoch 63/100\n",
      "33/33 - 60s - loss: 3.3806e-10 - accuracy: 1.0000 - val_loss: 3.4478 - val_accuracy: 0.7429 - 60s/epoch - 2s/step\n",
      "Epoch 64/100\n",
      "33/33 - 60s - loss: 7.6535e-11 - accuracy: 1.0000 - val_loss: 3.4315 - val_accuracy: 0.7429 - 60s/epoch - 2s/step\n",
      "Epoch 65/100\n",
      "33/33 - 60s - loss: 3.1782e-11 - accuracy: 1.0000 - val_loss: 3.4290 - val_accuracy: 0.7429 - 60s/epoch - 2s/step\n",
      "Epoch 66/100\n",
      "33/33 - 60s - loss: 1.3463e-11 - accuracy: 1.0000 - val_loss: 3.4289 - val_accuracy: 0.7429 - 60s/epoch - 2s/step\n"
     ]
    },
    {
     "name": "stdout",
     "output_type": "stream",
     "text": [
      "Epoch 67/100\n",
      "33/33 - 60s - loss: 6.5558e-12 - accuracy: 1.0000 - val_loss: 3.4288 - val_accuracy: 0.7429 - 60s/epoch - 2s/step\n",
      "Epoch 68/100\n",
      "33/33 - 61s - loss: 1.3564e-11 - accuracy: 1.0000 - val_loss: 3.4291 - val_accuracy: 0.7429 - 61s/epoch - 2s/step\n",
      "Epoch 69/100\n",
      "33/33 - 59s - loss: 1.3866e-12 - accuracy: 1.0000 - val_loss: 3.4291 - val_accuracy: 0.7429 - 59s/epoch - 2s/step\n",
      "Epoch 70/100\n",
      "33/33 - 59s - loss: 3.4459e-11 - accuracy: 1.0000 - val_loss: 3.4281 - val_accuracy: 0.7429 - 59s/epoch - 2s/step\n",
      "Epoch 71/100\n",
      "33/33 - 60s - loss: 1.3774e-12 - accuracy: 1.0000 - val_loss: 3.4281 - val_accuracy: 0.7429 - 60s/epoch - 2s/step\n",
      "Epoch 72/100\n",
      "33/33 - 61s - loss: 7.1100e-12 - accuracy: 1.0000 - val_loss: 3.4281 - val_accuracy: 0.7429 - 61s/epoch - 2s/step\n",
      "Epoch 73/100\n",
      "33/33 - 61s - loss: 5.2735e-11 - accuracy: 1.0000 - val_loss: 3.4313 - val_accuracy: 0.7571 - 61s/epoch - 2s/step\n",
      "Epoch 74/100\n",
      "33/33 - 60s - loss: 2.4877e-12 - accuracy: 1.0000 - val_loss: 3.4313 - val_accuracy: 0.7571 - 60s/epoch - 2s/step\n",
      "Epoch 75/100\n",
      "33/33 - 60s - loss: 4.9042e-12 - accuracy: 1.0000 - val_loss: 3.4313 - val_accuracy: 0.7571 - 60s/epoch - 2s/step\n",
      "Epoch 76/100\n",
      "33/33 - 60s - loss: 1.1280e-12 - accuracy: 1.0000 - val_loss: 3.4313 - val_accuracy: 0.7571 - 60s/epoch - 2s/step\n",
      "Epoch 77/100\n",
      "33/33 - 60s - loss: 2.6244e-12 - accuracy: 1.0000 - val_loss: 3.4313 - val_accuracy: 0.7571 - 60s/epoch - 2s/step\n",
      "Epoch 78/100\n",
      "33/33 - 63s - loss: 2.7247e-12 - accuracy: 1.0000 - val_loss: 3.4314 - val_accuracy: 0.7571 - 63s/epoch - 2s/step\n",
      "Epoch 79/100\n",
      "33/33 - 62s - loss: 5.1455e-12 - accuracy: 1.0000 - val_loss: 3.4314 - val_accuracy: 0.7571 - 62s/epoch - 2s/step\n",
      "Epoch 80/100\n",
      "33/33 - 61s - loss: 1.5793e-10 - accuracy: 1.0000 - val_loss: 3.4314 - val_accuracy: 0.7571 - 61s/epoch - 2s/step\n",
      "Epoch 81/100\n",
      "33/33 - 62s - loss: 2.8261e-11 - accuracy: 1.0000 - val_loss: 3.4315 - val_accuracy: 0.7571 - 62s/epoch - 2s/step\n",
      "Epoch 82/100\n",
      "33/33 - 62s - loss: 2.0064e-11 - accuracy: 1.0000 - val_loss: 3.4316 - val_accuracy: 0.7571 - 62s/epoch - 2s/step\n",
      "Epoch 83/100\n",
      "33/33 - 60s - loss: 1.1279e-11 - accuracy: 1.0000 - val_loss: 3.4316 - val_accuracy: 0.7571 - 60s/epoch - 2s/step\n",
      "Epoch 84/100\n",
      "33/33 - 61s - loss: 4.2459e-11 - accuracy: 1.0000 - val_loss: 3.4316 - val_accuracy: 0.7571 - 61s/epoch - 2s/step\n",
      "Epoch 85/100\n",
      "33/33 - 61s - loss: 2.0386e-11 - accuracy: 1.0000 - val_loss: 3.4316 - val_accuracy: 0.7571 - 61s/epoch - 2s/step\n",
      "Epoch 86/100\n",
      "33/33 - 60s - loss: 3.2915e-11 - accuracy: 1.0000 - val_loss: 3.4316 - val_accuracy: 0.7571 - 60s/epoch - 2s/step\n",
      "Epoch 87/100\n",
      "33/33 - 60s - loss: 2.4698e-12 - accuracy: 1.0000 - val_loss: 3.4316 - val_accuracy: 0.7571 - 60s/epoch - 2s/step\n",
      "Epoch 88/100\n",
      "33/33 - 60s - loss: 1.0442e-11 - accuracy: 1.0000 - val_loss: 3.4329 - val_accuracy: 0.7571 - 60s/epoch - 2s/step\n",
      "Epoch 89/100\n",
      "33/33 - 61s - loss: 2.8274e-11 - accuracy: 1.0000 - val_loss: 3.4330 - val_accuracy: 0.7571 - 61s/epoch - 2s/step\n",
      "Epoch 90/100\n",
      "33/33 - 61s - loss: 5.5465e-12 - accuracy: 1.0000 - val_loss: 3.4334 - val_accuracy: 0.7571 - 61s/epoch - 2s/step\n",
      "Epoch 91/100\n",
      "33/33 - 60s - loss: 3.4481e-12 - accuracy: 1.0000 - val_loss: 3.4338 - val_accuracy: 0.7571 - 60s/epoch - 2s/step\n",
      "Epoch 92/100\n",
      "33/33 - 60s - loss: 2.8943e-10 - accuracy: 1.0000 - val_loss: 3.5606 - val_accuracy: 0.7429 - 60s/epoch - 2s/step\n",
      "Epoch 93/100\n",
      "33/33 - 60s - loss: 6.6081e-12 - accuracy: 1.0000 - val_loss: 3.5591 - val_accuracy: 0.7429 - 60s/epoch - 2s/step\n",
      "Epoch 94/100\n",
      "33/33 - 60s - loss: 7.1033e-10 - accuracy: 1.0000 - val_loss: 3.9091 - val_accuracy: 0.7571 - 60s/epoch - 2s/step\n",
      "Epoch 95/100\n",
      "33/33 - 60s - loss: 0.0429 - accuracy: 0.9938 - val_loss: 2.8771 - val_accuracy: 0.8286 - 60s/epoch - 2s/step\n",
      "Epoch 96/100\n",
      "33/33 - 60s - loss: 0.2246 - accuracy: 0.9876 - val_loss: 8.2978 - val_accuracy: 0.5429 - 60s/epoch - 2s/step\n",
      "Epoch 97/100\n",
      "33/33 - 60s - loss: 0.0422 - accuracy: 0.9814 - val_loss: 3.5175 - val_accuracy: 0.7429 - 60s/epoch - 2s/step\n",
      "Epoch 98/100\n",
      "33/33 - 60s - loss: 1.3836e-12 - accuracy: 1.0000 - val_loss: 3.5175 - val_accuracy: 0.7429 - 60s/epoch - 2s/step\n",
      "Epoch 99/100\n",
      "33/33 - 60s - loss: 1.7306e-11 - accuracy: 1.0000 - val_loss: 3.5175 - val_accuracy: 0.7429 - 60s/epoch - 2s/step\n",
      "Epoch 100/100\n",
      "33/33 - 60s - loss: 2.3627e-10 - accuracy: 1.0000 - val_loss: 3.5175 - val_accuracy: 0.7429 - 60s/epoch - 2s/step\n"
     ]
    }
   ],
   "source": [
    "history = model.fit(train_generator,\n",
    "                              validation_data=validation_generator,\n",
    "                              epochs=100,\n",
    "                              verbose=2)"
   ]
  },
  {
   "cell_type": "code",
   "execution_count": 7,
   "metadata": {},
   "outputs": [
    {
     "name": "stdout",
     "output_type": "stream",
     "text": [
      "Pérdida: 3.5175092220306396 / Precisión: 0.7428571581840515\n"
     ]
    }
   ],
   "source": [
    "resultado = model.evaluate(validation_generator, verbose=0)\n",
    "print(f'Pérdida: {resultado[0]} / Precisión: {resultado[1]}')"
   ]
  },
  {
   "cell_type": "code",
   "execution_count": 8,
   "metadata": {},
   "outputs": [
    {
     "data": {
      "image/png": "[encoded data removed]",
      "text/plain": [
       "<Figure size 432x288 with 1 Axes>"
      ]
     },
     "metadata": {
      "needs_background": "light"
     },
     "output_type": "display_data"
    },
    {
     "data": {
      "image/png": "[encoded data removed]",
      "text/plain": [
       "<Figure size 432x288 with 1 Axes>"
      ]
     },
     "metadata": {
      "needs_background": "light"
     },
     "output_type": "display_data"
    }
   ],
   "source": [
    "#-----------------------------------------------------------\n",
    "# Recupero los valores para dibujar las gráficas\n",
    "#-----------------------------------------------------------\n",
    "acc = history.history['accuracy']\n",
    "val_acc = history.history['val_accuracy']\n",
    "loss = history.history['loss']\n",
    "val_loss = history.history['val_loss']\n",
    "\n",
    "epochs = range(len(acc))\n",
    "\n",
    "#------------------------------------------------\n",
    "# Accuracy vs val_accuracy\n",
    "#------------------------------------------------\n",
    "plt.plot(epochs, acc, 'b', label='Training accuracy')\n",
    "plt.plot(epochs, val_acc, 'r', label='Validation accuracy')\n",
    "plt.title('accuracy vs val_accuracy')\n",
    "plt.legend()\n",
    "\n",
    "plt.figure()\n",
    "\n",
    "#------------------------------------------------\n",
    "# Loss vs val_loss\n",
    "#------------------------------------------------\n",
    "plt.plot(epochs, loss, 'b', label='Training Loss')\n",
    "plt.plot(epochs, val_loss, 'r', label='Validation Loss')\n",
    "plt.title('loss vs val_loss')\n",
    "plt.legend()\n",
    "\n",
    "plt.show()"
   ]
  },
  {
   "cell_type": "markdown",
   "metadata": {},
   "source": [
    "## Función de clasificación"
   ]
  },
  {
   "cell_type": "code",
   "execution_count": 9,
   "metadata": {},
   "outputs": [],
   "source": [
    "def clasificacion(path):\n",
    "    img=image.load_img(path, target_size=(150, 150))\n",
    "  \n",
    "    x=image.img_to_array(img)\n",
    "    x=np.expand_dims(x, axis=0)\n",
    "    images = np.vstack([x])\n",
    "  \n",
    "    classes = model.predict(images, batch_size=10)\n",
    "  \n",
    "    if classes[0]>0:\n",
    "        print(\"Está viva\")\n",
    "    else:\n",
    "        print(\"Está muerta\")"
   ]
  },
  {
   "cell_type": "markdown",
   "metadata": {},
   "source": [
    "# ----------------------------------------------------------------------------------------------------\n",
    "# Pruebas de clasificación\n",
    "# ----------------------------------------------------------------------------------------------------"
   ]
  },
  {
   "cell_type": "code",
   "execution_count": 10,
   "metadata": {
    "scrolled": true
   },
   "outputs": [
    {
     "name": "stdout",
     "output_type": "stream",
     "text": [
      "Está viva\n"
     ]
    }
   ],
   "source": [
    "#Directorio que contiene una foto de una gallina, independientemente de su estado, para su clasificación\n",
    "path='C:/Users/Saul/Desktop/SAUL/INFORMATICA/UBU 4º/2º semestre/TFG/Fotos_Proyecto_Detección_de_Bajas/Prediccion/I_1.jpg'\n",
    "\n",
    "clasificacion(path)"
   ]
  },
  {
   "cell_type": "code",
   "execution_count": null,
   "metadata": {},
   "outputs": [],
   "source": []
  }
 ],
 "metadata": {
  "kernelspec": {
   "display_name": "Python 3",
   "language": "python",
   "name": "python3"
  },
  "language_info": {
   "codemirror_mode": {
    "name": "ipython",
    "version": 3
   },
   "file_extension": ".py",
   "mimetype": "text/x-python",
   "name": "python",
   "nbconvert_exporter": "python",
   "pygments_lexer": "ipython3",
   "version": "3.8.3"
  }
 },
 "nbformat": 4,
 "nbformat_minor": 4
}
