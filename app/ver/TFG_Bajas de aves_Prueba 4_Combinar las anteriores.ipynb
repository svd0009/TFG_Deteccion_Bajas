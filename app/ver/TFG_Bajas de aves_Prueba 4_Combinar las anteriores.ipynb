{
 "cells": [
  {
   "cell_type": "markdown",
   "metadata": {},
   "source": [
    "# ---------------------------------------------------------------------------------------------------------\n",
    "# Librerías\n",
    "# ---------------------------------------------------------------------------------------------------------"
   ]
  },
  {
   "cell_type": "code",
   "execution_count": 1,
   "metadata": {},
   "outputs": [],
   "source": [
    "import urllib.request\n",
    "import os\n",
    "import zipfile\n",
    "\n",
    "import matplotlib.image as mpimg\n",
    "import matplotlib.pyplot as plt\n",
    "\n",
    "\n",
    "import tensorflow as tf\n",
    "\n",
    "from tensorflow.keras.optimizers import RMSprop\n",
    "from tensorflow.keras.preprocessing.image import ImageDataGenerator\n",
    "from tensorflow.keras.preprocessing import image\n",
    "\n",
    "\n",
    "import numpy as np"
   ]
  },
  {
   "cell_type": "markdown",
   "metadata": {},
   "source": [
    "## Ubicación de imágenes de modelo y de test."
   ]
  },
  {
   "cell_type": "code",
   "execution_count": 2,
   "metadata": {},
   "outputs": [],
   "source": [
    "#Directorio base\n",
    "base_dir = 'C:/Users/Saul/Desktop/SAUL/INFORMATICA/UBU 4º/2º semestre/TFG/Fotos_Proyecto_Detección_de_Bajas'\n",
    "\n",
    "train_dir = os.path.join(base_dir, 'Entrenamiento')\n",
    "validation_dir = os.path.join(base_dir, 'Validacion')\n",
    "\n",
    "# Directorio con las fotos de gallinas clasificadas\n",
    "train_alive_dir = os.path.join(train_dir, 'Gallinas_vivas')\n",
    "train_dead_dir = os.path.join(train_dir, 'Gallinas_muertas')\n",
    "\n",
    "# Directorio con las imágenes de modelo\n",
    "validation_alive_dir = os.path.join(validation_dir, 'Gallinas_vivas')\n",
    "validation_dead_dir = os.path.join(validation_dir, 'Gallinas_muertas')"
   ]
  },
  {
   "cell_type": "markdown",
   "metadata": {},
   "source": [
    "# ---------------------------------------------------------------------------------------------------------\n",
    "# PREPROCESAMIENTO DE LOS DATOS\n",
    "# ---------------------------------------------------------------------------------------------------------"
   ]
  },
  {
   "cell_type": "markdown",
   "metadata": {},
   "source": [
    "### Prueba nº4: Combinar las 3 pruebas anteriores"
   ]
  },
  {
   "cell_type": "code",
   "execution_count": 3,
   "metadata": {},
   "outputs": [],
   "source": [
    "model = tf.keras.models.Sequential([\n",
    "    # tf.keras.layers.Conv2D(filtros, tamaño_kernel, activacion, input_shape)\n",
    "    # input_size es la forma deseada de la imagen (150x150) con 3 bytes de color\n",
    "    # Bloque de convolución 1\n",
    "    tf.keras.layers.Conv2D(32, (3,3), activation='relu', input_shape=(150, 150, 3)),\n",
    "    tf.keras.layers.Conv2D(32, (3,3), activation='relu', input_shape=(150, 150, 3)),\n",
    "    tf.keras.layers.MaxPooling2D(2,2),\n",
    "    \n",
    "    # Bloque de convolución 2\n",
    "    tf.keras.layers.Conv2D(64, (3,3), activation='relu'),\n",
    "    tf.keras.layers.Conv2D(64, (3,3), activation='relu'),\n",
    "    tf.keras.layers.MaxPooling2D(2,2), \n",
    "    \n",
    "    # Bloque de convolución 3\n",
    "    tf.keras.layers.Conv2D(128, (3,3), activation='relu'), \n",
    "    tf.keras.layers.Conv2D(128, (3,3), activation='relu'), \n",
    "    tf.keras.layers.MaxPooling2D(2,2),\n",
    "    \n",
    "    # Bloque de convolución 4\n",
    "    tf.keras.layers.Conv2D(256, (3,3), activation='relu'), \n",
    "    tf.keras.layers.Conv2D(256, (3,3), activation='relu'), \n",
    "    tf.keras.layers.MaxPooling2D(2,2),\n",
    "    \n",
    "    # \"Aplana\" los resultados para pasárselos a una DNN (Deep neural network)\n",
    "    tf.keras.layers.Flatten(), \n",
    "    \n",
    "    # Neuronas de capa oculta: 512\n",
    "    tf.keras.layers.Dense(512, activation='relu')\n",
    "    , \n",
    "    # Neurona de salida que devuelve dos valores: 0 para gallinas muertas y 1 para gallinas vivas.\n",
    "    tf.keras.layers.Dense(1, activation='sigmoid')  \n",
    "])"
   ]
  },
  {
   "cell_type": "code",
   "execution_count": 4,
   "metadata": {},
   "outputs": [],
   "source": [
    "from tensorflow.keras.optimizers import RMSprop\n",
    "\n",
    "model.compile(optimizer=RMSprop(learning_rate=0.001),\n",
    "              loss='binary_crossentropy',\n",
    "              metrics = ['accuracy'])"
   ]
  },
  {
   "cell_type": "code",
   "execution_count": 5,
   "metadata": {},
   "outputs": [
    {
     "name": "stdout",
     "output_type": "stream",
     "text": [
      "Found 161 images belonging to 2 classes.\n",
      "Found 70 images belonging to 2 classes.\n"
     ]
    }
   ],
   "source": [
    "# Reescalado de imágenes a 1./255.\n",
    "train_datagen = ImageDataGenerator( rescale = 1.0/255. )\n",
    "test_datagen  = ImageDataGenerator( rescale = 1.0/255. )\n",
    "\n",
    "# ------------------------------------------------------------------------\n",
    "# Entrenamiento de las imágenes en lotes de 5 utilizando \"train_datagen\"\n",
    "# ------------------------------------------------------------------------\n",
    "train_generator = train_datagen.flow_from_directory(train_dir,\n",
    "                                                    batch_size=5,\n",
    "                                                    class_mode='binary',\n",
    "                                                    target_size=(150, 150))     \n",
    "\n",
    "# ------------------------------------------------------------------------\n",
    "# Validación de las imágenes en lotes de 5 utilizando \"test_datagen\"\n",
    "# ------------------------------------------------------------------------\n",
    "validation_generator =  test_datagen.flow_from_directory(validation_dir,\n",
    "                                                         batch_size=5,\n",
    "                                                         class_mode  = 'binary',\n",
    "                                                         target_size = (150, 150))"
   ]
  },
  {
   "cell_type": "markdown",
   "metadata": {},
   "source": [
    "## Entrenamiento"
   ]
  },
  {
   "cell_type": "code",
   "execution_count": 6,
   "metadata": {},
   "outputs": [
    {
     "name": "stdout",
     "output_type": "stream",
     "text": [
      "Epoch 1/100\n",
      "33/33 - 60s - loss: 1.0807 - accuracy: 0.6957 - val_loss: 0.6283 - val_accuracy: 0.7286 - 60s/epoch - 2s/step\n",
      "Epoch 2/100\n",
      "33/33 - 58s - loss: 0.6444 - accuracy: 0.7391 - val_loss: 0.6017 - val_accuracy: 0.7286 - 58s/epoch - 2s/step\n",
      "Epoch 3/100\n",
      "33/33 - 58s - loss: 0.6091 - accuracy: 0.7391 - val_loss: 0.5908 - val_accuracy: 0.7286 - 58s/epoch - 2s/step\n",
      "Epoch 4/100\n",
      "33/33 - 58s - loss: 0.6233 - accuracy: 0.7391 - val_loss: 0.5902 - val_accuracy: 0.7286 - 58s/epoch - 2s/step\n",
      "Epoch 5/100\n",
      "33/33 - 58s - loss: 0.5904 - accuracy: 0.7391 - val_loss: 0.6069 - val_accuracy: 0.7286 - 58s/epoch - 2s/step\n",
      "Epoch 6/100\n",
      "33/33 - 58s - loss: 0.9266 - accuracy: 0.7391 - val_loss: 0.5829 - val_accuracy: 0.7286 - 58s/epoch - 2s/step\n",
      "Epoch 7/100\n",
      "33/33 - 57s - loss: 0.6083 - accuracy: 0.7391 - val_loss: 0.5839 - val_accuracy: 0.7286 - 57s/epoch - 2s/step\n",
      "Epoch 8/100\n",
      "33/33 - 58s - loss: 0.6399 - accuracy: 0.7143 - val_loss: 0.6001 - val_accuracy: 0.7286 - 58s/epoch - 2s/step\n",
      "Epoch 9/100\n",
      "33/33 - 58s - loss: 0.6389 - accuracy: 0.7391 - val_loss: 0.5891 - val_accuracy: 0.7286 - 58s/epoch - 2s/step\n",
      "Epoch 10/100\n",
      "33/33 - 58s - loss: 0.6009 - accuracy: 0.7391 - val_loss: 0.6477 - val_accuracy: 0.7286 - 58s/epoch - 2s/step\n",
      "Epoch 11/100\n",
      "33/33 - 57s - loss: 0.5964 - accuracy: 0.7391 - val_loss: 0.6005 - val_accuracy: 0.7286 - 57s/epoch - 2s/step\n",
      "Epoch 12/100\n",
      "33/33 - 57s - loss: 0.5986 - accuracy: 0.7391 - val_loss: 0.5956 - val_accuracy: 0.7286 - 57s/epoch - 2s/step\n",
      "Epoch 13/100\n",
      "33/33 - 57s - loss: 0.5829 - accuracy: 0.7391 - val_loss: 0.5847 - val_accuracy: 0.7286 - 57s/epoch - 2s/step\n",
      "Epoch 14/100\n",
      "33/33 - 58s - loss: 0.5888 - accuracy: 0.7391 - val_loss: 0.5847 - val_accuracy: 0.7286 - 58s/epoch - 2s/step\n",
      "Epoch 15/100\n",
      "33/33 - 59s - loss: 0.6177 - accuracy: 0.7081 - val_loss: 0.5844 - val_accuracy: 0.7286 - 59s/epoch - 2s/step\n",
      "Epoch 16/100\n",
      "33/33 - 58s - loss: 0.5905 - accuracy: 0.7391 - val_loss: 0.5775 - val_accuracy: 0.7286 - 58s/epoch - 2s/step\n",
      "Epoch 17/100\n",
      "33/33 - 56s - loss: 0.5870 - accuracy: 0.7391 - val_loss: 0.6013 - val_accuracy: 0.7286 - 56s/epoch - 2s/step\n",
      "Epoch 18/100\n",
      "33/33 - 56s - loss: 0.5957 - accuracy: 0.7391 - val_loss: 0.5938 - val_accuracy: 0.7286 - 56s/epoch - 2s/step\n",
      "Epoch 19/100\n",
      "33/33 - 56s - loss: 0.5820 - accuracy: 0.7391 - val_loss: 0.5802 - val_accuracy: 0.7286 - 56s/epoch - 2s/step\n",
      "Epoch 20/100\n",
      "33/33 - 56s - loss: 0.5855 - accuracy: 0.7391 - val_loss: 0.5846 - val_accuracy: 0.7286 - 56s/epoch - 2s/step\n",
      "Epoch 21/100\n",
      "33/33 - 56s - loss: 0.5819 - accuracy: 0.7391 - val_loss: 0.5738 - val_accuracy: 0.7286 - 56s/epoch - 2s/step\n",
      "Epoch 22/100\n",
      "33/33 - 56s - loss: 0.5749 - accuracy: 0.7329 - val_loss: 0.5371 - val_accuracy: 0.7571 - 56s/epoch - 2s/step\n",
      "Epoch 23/100\n",
      "33/33 - 56s - loss: 0.5726 - accuracy: 0.7516 - val_loss: 0.5286 - val_accuracy: 0.7714 - 56s/epoch - 2s/step\n",
      "Epoch 24/100\n",
      "33/33 - 56s - loss: 0.5536 - accuracy: 0.7702 - val_loss: 0.5306 - val_accuracy: 0.7571 - 56s/epoch - 2s/step\n",
      "Epoch 25/100\n",
      "33/33 - 56s - loss: 0.5652 - accuracy: 0.7391 - val_loss: 0.5344 - val_accuracy: 0.7571 - 56s/epoch - 2s/step\n",
      "Epoch 26/100\n",
      "33/33 - 56s - loss: 0.5382 - accuracy: 0.7702 - val_loss: 0.5691 - val_accuracy: 0.7429 - 56s/epoch - 2s/step\n",
      "Epoch 27/100\n",
      "33/33 - 56s - loss: 0.5211 - accuracy: 0.7640 - val_loss: 0.5589 - val_accuracy: 0.7286 - 56s/epoch - 2s/step\n",
      "Epoch 28/100\n",
      "33/33 - 56s - loss: 0.4931 - accuracy: 0.7888 - val_loss: 0.8134 - val_accuracy: 0.7000 - 56s/epoch - 2s/step\n",
      "Epoch 29/100\n",
      "33/33 - 56s - loss: 0.5125 - accuracy: 0.7640 - val_loss: 0.5321 - val_accuracy: 0.7571 - 56s/epoch - 2s/step\n",
      "Epoch 30/100\n",
      "33/33 - 56s - loss: 0.5122 - accuracy: 0.7702 - val_loss: 0.5577 - val_accuracy: 0.7571 - 56s/epoch - 2s/step\n",
      "Epoch 31/100\n",
      "33/33 - 56s - loss: 0.4713 - accuracy: 0.7702 - val_loss: 0.8920 - val_accuracy: 0.7571 - 56s/epoch - 2s/step\n",
      "Epoch 32/100\n",
      "33/33 - 56s - loss: 0.5455 - accuracy: 0.8137 - val_loss: 0.4882 - val_accuracy: 0.7429 - 56s/epoch - 2s/step\n",
      "Epoch 33/100\n",
      "33/33 - 56s - loss: 0.3971 - accuracy: 0.7950 - val_loss: 0.5443 - val_accuracy: 0.7429 - 56s/epoch - 2s/step\n",
      "Epoch 34/100\n",
      "33/33 - 56s - loss: 0.4682 - accuracy: 0.7578 - val_loss: 0.4353 - val_accuracy: 0.7571 - 56s/epoch - 2s/step\n",
      "Epoch 35/100\n",
      "33/33 - 56s - loss: 0.4279 - accuracy: 0.8261 - val_loss: 0.7824 - val_accuracy: 0.7571 - 56s/epoch - 2s/step\n",
      "Epoch 36/100\n",
      "33/33 - 56s - loss: 0.4146 - accuracy: 0.8261 - val_loss: 0.4149 - val_accuracy: 0.7714 - 56s/epoch - 2s/step\n",
      "Epoch 37/100\n",
      "33/33 - 56s - loss: 0.4048 - accuracy: 0.8261 - val_loss: 0.3974 - val_accuracy: 0.8571 - 56s/epoch - 2s/step\n",
      "Epoch 38/100\n",
      "33/33 - 56s - loss: 0.3640 - accuracy: 0.8509 - val_loss: 0.4423 - val_accuracy: 0.7714 - 56s/epoch - 2s/step\n",
      "Epoch 39/100\n",
      "33/33 - 56s - loss: 0.3501 - accuracy: 0.8447 - val_loss: 0.2862 - val_accuracy: 0.8714 - 56s/epoch - 2s/step\n",
      "Epoch 40/100\n",
      "33/33 - 56s - loss: 0.8802 - accuracy: 0.8820 - val_loss: 0.3473 - val_accuracy: 0.8571 - 56s/epoch - 2s/step\n",
      "Epoch 41/100\n",
      "33/33 - 56s - loss: 0.4548 - accuracy: 0.8696 - val_loss: 0.3735 - val_accuracy: 0.8143 - 56s/epoch - 2s/step\n",
      "Epoch 42/100\n",
      "33/33 - 57s - loss: 0.3216 - accuracy: 0.8696 - val_loss: 0.2878 - val_accuracy: 0.8571 - 57s/epoch - 2s/step\n",
      "Epoch 43/100\n",
      "33/33 - 56s - loss: 0.3005 - accuracy: 0.8696 - val_loss: 0.2775 - val_accuracy: 0.9000 - 56s/epoch - 2s/step\n",
      "Epoch 44/100\n",
      "33/33 - 56s - loss: 0.3301 - accuracy: 0.9068 - val_loss: 0.3383 - val_accuracy: 0.9143 - 56s/epoch - 2s/step\n",
      "Epoch 45/100\n",
      "33/33 - 56s - loss: 0.4300 - accuracy: 0.8882 - val_loss: 0.3341 - val_accuracy: 0.8429 - 56s/epoch - 2s/step\n",
      "Epoch 46/100\n",
      "33/33 - 56s - loss: 0.2633 - accuracy: 0.9006 - val_loss: 0.4846 - val_accuracy: 0.7429 - 56s/epoch - 2s/step\n",
      "Epoch 47/100\n",
      "33/33 - 56s - loss: 0.2359 - accuracy: 0.9068 - val_loss: 1.6295 - val_accuracy: 0.7286 - 56s/epoch - 2s/step\n",
      "Epoch 48/100\n",
      "33/33 - 56s - loss: 0.2695 - accuracy: 0.9068 - val_loss: 0.4056 - val_accuracy: 0.7857 - 56s/epoch - 2s/step\n",
      "Epoch 49/100\n",
      "33/33 - 56s - loss: 0.2374 - accuracy: 0.9441 - val_loss: 0.3868 - val_accuracy: 0.9000 - 56s/epoch - 2s/step\n",
      "Epoch 50/100\n",
      "33/33 - 56s - loss: 0.2152 - accuracy: 0.9441 - val_loss: 0.6411 - val_accuracy: 0.8286 - 56s/epoch - 2s/step\n",
      "Epoch 51/100\n",
      "33/33 - 56s - loss: 0.2001 - accuracy: 0.9503 - val_loss: 0.4607 - val_accuracy: 0.9000 - 56s/epoch - 2s/step\n",
      "Epoch 52/100\n",
      "33/33 - 56s - loss: 0.3406 - accuracy: 0.9255 - val_loss: 0.9871 - val_accuracy: 0.8000 - 56s/epoch - 2s/step\n",
      "Epoch 53/100\n",
      "33/33 - 56s - loss: 0.1607 - accuracy: 0.9441 - val_loss: 0.4551 - val_accuracy: 0.8429 - 56s/epoch - 2s/step\n",
      "Epoch 54/100\n",
      "33/33 - 56s - loss: 0.0066 - accuracy: 1.0000 - val_loss: 0.9036 - val_accuracy: 0.8571 - 56s/epoch - 2s/step\n",
      "Epoch 55/100\n",
      "33/33 - 56s - loss: 6.0730e-05 - accuracy: 1.0000 - val_loss: 1.2238 - val_accuracy: 0.8286 - 56s/epoch - 2s/step\n",
      "Epoch 56/100\n",
      "33/33 - 56s - loss: 4.9642e-06 - accuracy: 1.0000 - val_loss: 1.1223 - val_accuracy: 0.8571 - 56s/epoch - 2s/step\n",
      "Epoch 57/100\n",
      "33/33 - 57s - loss: 6.8906e-07 - accuracy: 1.0000 - val_loss: 1.2712 - val_accuracy: 0.8429 - 57s/epoch - 2s/step\n",
      "Epoch 58/100\n",
      "33/33 - 56s - loss: 1.5877e-07 - accuracy: 1.0000 - val_loss: 1.3646 - val_accuracy: 0.8571 - 56s/epoch - 2s/step\n",
      "Epoch 59/100\n",
      "33/33 - 56s - loss: 2.9708e-08 - accuracy: 1.0000 - val_loss: 1.4819 - val_accuracy: 0.8571 - 56s/epoch - 2s/step\n",
      "Epoch 60/100\n",
      "33/33 - 56s - loss: 5.1926e-09 - accuracy: 1.0000 - val_loss: 1.6196 - val_accuracy: 0.8714 - 56s/epoch - 2s/step\n",
      "Epoch 61/100\n",
      "33/33 - 56s - loss: 2.2726e-09 - accuracy: 1.0000 - val_loss: 1.9276 - val_accuracy: 0.8571 - 56s/epoch - 2s/step\n",
      "Epoch 62/100\n",
      "33/33 - 56s - loss: 0.4595 - accuracy: 0.9627 - val_loss: 2.0020 - val_accuracy: 0.8143 - 56s/epoch - 2s/step\n",
      "Epoch 63/100\n",
      "33/33 - 56s - loss: 0.5043 - accuracy: 0.9441 - val_loss: 0.8193 - val_accuracy: 0.8286 - 56s/epoch - 2s/step\n",
      "Epoch 64/100\n",
      "33/33 - 56s - loss: 8.2803e-04 - accuracy: 1.0000 - val_loss: 1.1391 - val_accuracy: 0.8714 - 56s/epoch - 2s/step\n",
      "Epoch 65/100\n",
      "33/33 - 56s - loss: 8.3434e-05 - accuracy: 1.0000 - val_loss: 1.3422 - val_accuracy: 0.8571 - 56s/epoch - 2s/step\n",
      "Epoch 66/100\n",
      "33/33 - 56s - loss: 1.4360e-05 - accuracy: 1.0000 - val_loss: 1.2756 - val_accuracy: 0.8857 - 56s/epoch - 2s/step\n",
      "Epoch 67/100\n",
      "33/33 - 56s - loss: 4.4139e-07 - accuracy: 1.0000 - val_loss: 1.3035 - val_accuracy: 0.8714 - 56s/epoch - 2s/step\n"
     ]
    },
    {
     "name": "stdout",
     "output_type": "stream",
     "text": [
      "Epoch 68/100\n",
      "33/33 - 57s - loss: 4.4397e-08 - accuracy: 1.0000 - val_loss: 1.3503 - val_accuracy: 0.8714 - 57s/epoch - 2s/step\n",
      "Epoch 69/100\n",
      "33/33 - 56s - loss: 1.3999e-08 - accuracy: 1.0000 - val_loss: 1.3980 - val_accuracy: 0.8714 - 56s/epoch - 2s/step\n",
      "Epoch 70/100\n",
      "33/33 - 56s - loss: 4.1915e-09 - accuracy: 1.0000 - val_loss: 1.4467 - val_accuracy: 0.8714 - 56s/epoch - 2s/step\n",
      "Epoch 71/100\n",
      "33/33 - 56s - loss: 2.0416e-09 - accuracy: 1.0000 - val_loss: 1.5118 - val_accuracy: 0.8714 - 56s/epoch - 2s/step\n",
      "Epoch 72/100\n",
      "33/33 - 56s - loss: 7.5543e-10 - accuracy: 1.0000 - val_loss: 1.5089 - val_accuracy: 0.8714 - 56s/epoch - 2s/step\n",
      "Epoch 73/100\n",
      "33/33 - 56s - loss: 6.5233e-10 - accuracy: 1.0000 - val_loss: 1.5067 - val_accuracy: 0.8857 - 56s/epoch - 2s/step\n",
      "Epoch 74/100\n",
      "33/33 - 56s - loss: 7.4482e-10 - accuracy: 1.0000 - val_loss: 1.5077 - val_accuracy: 0.8714 - 56s/epoch - 2s/step\n",
      "Epoch 75/100\n",
      "33/33 - 56s - loss: 0.0214 - accuracy: 0.9938 - val_loss: 1.6517 - val_accuracy: 0.8000 - 56s/epoch - 2s/step\n",
      "Epoch 76/100\n",
      "33/33 - 56s - loss: 0.5680 - accuracy: 0.9441 - val_loss: 0.9664 - val_accuracy: 0.8000 - 56s/epoch - 2s/step\n",
      "Epoch 77/100\n",
      "33/33 - 56s - loss: 0.1639 - accuracy: 0.9689 - val_loss: 1.1291 - val_accuracy: 0.8714 - 56s/epoch - 2s/step\n",
      "Epoch 78/100\n",
      "33/33 - 56s - loss: 0.6857 - accuracy: 0.9379 - val_loss: 1.3321 - val_accuracy: 0.8143 - 56s/epoch - 2s/step\n",
      "Epoch 79/100\n",
      "33/33 - 56s - loss: 0.0141 - accuracy: 0.9938 - val_loss: 1.4681 - val_accuracy: 0.8429 - 56s/epoch - 2s/step\n",
      "Epoch 80/100\n",
      "33/33 - 56s - loss: 0.2962 - accuracy: 0.9255 - val_loss: 0.8161 - val_accuracy: 0.9000 - 56s/epoch - 2s/step\n",
      "Epoch 81/100\n",
      "33/33 - 56s - loss: 0.0014 - accuracy: 1.0000 - val_loss: 1.1392 - val_accuracy: 0.8857 - 56s/epoch - 2s/step\n",
      "Epoch 82/100\n",
      "33/33 - 56s - loss: 7.3346e-05 - accuracy: 1.0000 - val_loss: 1.2290 - val_accuracy: 0.8857 - 56s/epoch - 2s/step\n",
      "Epoch 83/100\n",
      "33/33 - 56s - loss: 5.0975e-06 - accuracy: 1.0000 - val_loss: 1.3483 - val_accuracy: 0.8857 - 56s/epoch - 2s/step\n",
      "Epoch 84/100\n",
      "33/33 - 56s - loss: 8.4871e-07 - accuracy: 1.0000 - val_loss: 1.4435 - val_accuracy: 0.8857 - 56s/epoch - 2s/step\n",
      "Epoch 85/100\n",
      "33/33 - 56s - loss: 1.7202e-07 - accuracy: 1.0000 - val_loss: 1.5488 - val_accuracy: 0.8857 - 56s/epoch - 2s/step\n",
      "Epoch 86/100\n",
      "33/33 - 56s - loss: 2.5065e-08 - accuracy: 1.0000 - val_loss: 1.5912 - val_accuracy: 0.8714 - 56s/epoch - 2s/step\n",
      "Epoch 87/100\n",
      "33/33 - 56s - loss: 5.9424e-09 - accuracy: 1.0000 - val_loss: 1.6830 - val_accuracy: 0.8714 - 56s/epoch - 2s/step\n",
      "Epoch 88/100\n",
      "33/33 - 56s - loss: 1.7937e-09 - accuracy: 1.0000 - val_loss: 1.7765 - val_accuracy: 0.8714 - 56s/epoch - 2s/step\n",
      "Epoch 89/100\n",
      "33/33 - 56s - loss: 9.8753e-10 - accuracy: 1.0000 - val_loss: 1.8112 - val_accuracy: 0.8857 - 56s/epoch - 2s/step\n",
      "Epoch 90/100\n",
      "33/33 - 56s - loss: 0.9803 - accuracy: 0.9565 - val_loss: 1.1473 - val_accuracy: 0.8429 - 56s/epoch - 2s/step\n",
      "Epoch 91/100\n",
      "33/33 - 56s - loss: 0.0556 - accuracy: 0.9814 - val_loss: 1.2408 - val_accuracy: 0.8571 - 56s/epoch - 2s/step\n",
      "Epoch 92/100\n",
      "33/33 - 56s - loss: 0.2592 - accuracy: 0.9627 - val_loss: 4.2798 - val_accuracy: 0.7571 - 56s/epoch - 2s/step\n",
      "Epoch 93/100\n",
      "33/33 - 56s - loss: 0.2211 - accuracy: 0.9752 - val_loss: 1.9333 - val_accuracy: 0.7429 - 56s/epoch - 2s/step\n",
      "Epoch 94/100\n",
      "33/33 - 56s - loss: 0.0237 - accuracy: 0.9876 - val_loss: 0.6434 - val_accuracy: 0.9000 - 56s/epoch - 2s/step\n",
      "Epoch 95/100\n",
      "33/33 - 56s - loss: 0.2219 - accuracy: 0.9565 - val_loss: 1.4747 - val_accuracy: 0.8143 - 56s/epoch - 2s/step\n",
      "Epoch 96/100\n",
      "33/33 - 56s - loss: 0.1221 - accuracy: 0.9689 - val_loss: 1.5574 - val_accuracy: 0.7571 - 56s/epoch - 2s/step\n",
      "Epoch 97/100\n",
      "33/33 - 56s - loss: 0.6433 - accuracy: 0.9379 - val_loss: 0.5997 - val_accuracy: 0.8571 - 56s/epoch - 2s/step\n",
      "Epoch 98/100\n",
      "33/33 - 56s - loss: 0.0028 - accuracy: 1.0000 - val_loss: 1.7244 - val_accuracy: 0.7857 - 56s/epoch - 2s/step\n",
      "Epoch 99/100\n",
      "33/33 - 56s - loss: 8.4648e-05 - accuracy: 1.0000 - val_loss: 2.0370 - val_accuracy: 0.8000 - 56s/epoch - 2s/step\n",
      "Epoch 100/100\n",
      "33/33 - 56s - loss: 8.7921e-06 - accuracy: 1.0000 - val_loss: 2.6835 - val_accuracy: 0.8000 - 56s/epoch - 2s/step\n"
     ]
    }
   ],
   "source": [
    "history = model.fit(train_generator,\n",
    "                              validation_data=validation_generator,\n",
    "                              epochs=100,\n",
    "                              verbose=2)"
   ]
  },
  {
   "cell_type": "code",
   "execution_count": 7,
   "metadata": {},
   "outputs": [
    {
     "name": "stdout",
     "output_type": "stream",
     "text": [
      "Pérdida: 2.6835219860076904 / Precisión: 0.800000011920929\n"
     ]
    }
   ],
   "source": [
    "resultado = model.evaluate(validation_generator, verbose=0)\n",
    "print(f'Pérdida: {resultado[0]} / Precisión: {resultado[1]}')"
   ]
  },
  {
   "cell_type": "code",
   "execution_count": 8,
   "metadata": {},
   "outputs": [
    {
     "data": {
      "image/png": "[encoded data removed]",
      "text/plain": [
       "<Figure size 432x288 with 1 Axes>"
      ]
     },
     "metadata": {
      "needs_background": "light"
     },
     "output_type": "display_data"
    },
    {
     "data": {
      "image/png": "[encoded data removed]",
      "text/plain": [
       "<Figure size 432x288 with 1 Axes>"
      ]
     },
     "metadata": {
      "needs_background": "light"
     },
     "output_type": "display_data"
    }
   ],
   "source": [
    "#-----------------------------------------------------------\n",
    "# Recupero los valores para dibujar las gráficas\n",
    "#-----------------------------------------------------------\n",
    "acc = history.history['accuracy']\n",
    "val_acc = history.history['val_accuracy']\n",
    "loss = history.history['loss']\n",
    "val_loss = history.history['val_loss']\n",
    "\n",
    "epochs = range(len(acc))\n",
    "\n",
    "#------------------------------------------------\n",
    "# Accuracy vs val_accuracy\n",
    "#------------------------------------------------\n",
    "plt.plot(epochs, acc, 'b', label='Training accuracy')\n",
    "plt.plot(epochs, val_acc, 'r', label='Validation accuracy')\n",
    "plt.title('accuracy vs val_accuracy')\n",
    "plt.legend()\n",
    "\n",
    "plt.figure()\n",
    "\n",
    "#------------------------------------------------\n",
    "# Loss vs val_loss\n",
    "#------------------------------------------------\n",
    "plt.plot(epochs, loss, 'b', label='Training Loss')\n",
    "plt.plot(epochs, val_loss, 'r', label='Validation Loss')\n",
    "plt.title('loss vs val_loss')\n",
    "plt.legend()\n",
    "\n",
    "plt.show()"
   ]
  },
  {
   "cell_type": "markdown",
   "metadata": {},
   "source": [
    "## Función de clasificación"
   ]
  },
  {
   "cell_type": "code",
   "execution_count": 9,
   "metadata": {},
   "outputs": [],
   "source": [
    "def clasificacion(path):\n",
    "    img=image.load_img(path, target_size=(150, 150))\n",
    "  \n",
    "    x=image.img_to_array(img)\n",
    "    x=np.expand_dims(x, axis=0)\n",
    "    images = np.vstack([x])\n",
    "  \n",
    "    classes = model.predict(images, batch_size=10)\n",
    "  \n",
    "    if classes[0]>0:\n",
    "        print(\"Está viva\")\n",
    "    else:\n",
    "        print(\"Está muerta\")"
   ]
  },
  {
   "cell_type": "markdown",
   "metadata": {},
   "source": [
    "# ----------------------------------------------------------------------------------------------------\n",
    "# Pruebas de clasificación\n",
    "# ----------------------------------------------------------------------------------------------------"
   ]
  },
  {
   "cell_type": "code",
   "execution_count": 10,
   "metadata": {
    "scrolled": true
   },
   "outputs": [
    {
     "name": "stdout",
     "output_type": "stream",
     "text": [
      "Está viva\n"
     ]
    }
   ],
   "source": [
    "#Directorio que contiene una foto de una gallina, independientemente de su estado, para su clasificación\n",
    "path='C:/Users/Saul/Desktop/SAUL/INFORMATICA/UBU 4º/2º semestre/TFG/Fotos_Proyecto_Detección_de_Bajas/Prediccion/I_1.jpg'\n",
    "\n",
    "clasificacion(path)"
   ]
  },
  {
   "cell_type": "code",
   "execution_count": null,
   "metadata": {},
   "outputs": [],
   "source": []
  }
 ],
 "metadata": {
  "kernelspec": {
   "display_name": "Python 3",
   "language": "python",
   "name": "python3"
  },
  "language_info": {
   "codemirror_mode": {
    "name": "ipython",
    "version": 3
   },
   "file_extension": ".py",
   "mimetype": "text/x-python",
   "name": "python",
   "nbconvert_exporter": "python",
   "pygments_lexer": "ipython3",
   "version": "3.8.3"
  }
 },
 "nbformat": 4,
 "nbformat_minor": 4
}
