{
 "cells": [
  {
   "cell_type": "markdown",
   "metadata": {},
   "source": [
    "# ---------------------------------------------------------------------------------------------------------\n",
    "# Librerías\n",
    "# ---------------------------------------------------------------------------------------------------------"
   ]
  },
  {
   "cell_type": "code",
   "execution_count": 1,
   "metadata": {},
   "outputs": [],
   "source": [
    "import urllib.request\n",
    "import os\n",
    "import zipfile\n",
    "\n",
    "import matplotlib.image as mpimg\n",
    "import matplotlib.pyplot as plt\n",
    "\n",
    "\n",
    "import tensorflow as tf\n",
    "\n",
    "from tensorflow.keras.optimizers import RMSprop\n",
    "from tensorflow.keras.preprocessing.image import ImageDataGenerator\n",
    "from tensorflow.keras.preprocessing import image\n",
    "\n",
    "\n",
    "import numpy as np"
   ]
  },
  {
   "cell_type": "markdown",
   "metadata": {},
   "source": [
    "## Ubicación de imágenes de modelo y de test."
   ]
  },
  {
   "cell_type": "code",
   "execution_count": 2,
   "metadata": {},
   "outputs": [],
   "source": [
    "#Directorio base\n",
    "base_dir = 'C:/Users/Saul/Desktop/SAUL/INFORMATICA/UBU 4º/2º semestre/TFG/Fotos_Proyecto_Detección_de_Bajas'\n",
    "\n",
    "train_dir = os.path.join(base_dir, 'Entrenamiento')\n",
    "validation_dir = os.path.join(base_dir, 'Validacion')\n",
    "\n",
    "# Directorio con las fotos de gallinas clasificadas\n",
    "train_alive_dir = os.path.join(train_dir, 'Gallinas_vivas')\n",
    "train_dead_dir = os.path.join(train_dir, 'Gallinas_muertas')\n",
    "\n",
    "# Directorio con las imágenes de modelo\n",
    "validation_alive_dir = os.path.join(validation_dir, 'Gallinas_vivas')\n",
    "validation_dead_dir = os.path.join(validation_dir, 'Gallinas_muertas')"
   ]
  },
  {
   "cell_type": "markdown",
   "metadata": {},
   "source": [
    "# ---------------------------------------------------------------------------------------------------------\n",
    "# PREPROCESAMIENTO DE LOS DATOS\n",
    "# ---------------------------------------------------------------------------------------------------------"
   ]
  },
  {
   "cell_type": "markdown",
   "metadata": {},
   "source": [
    "### Versión final"
   ]
  },
  {
   "cell_type": "code",
   "execution_count": 3,
   "metadata": {},
   "outputs": [],
   "source": [
    "model = tf.keras.models.Sequential([\n",
    "    # tf.keras.layers.Conv2D(filtros, tamaño_kernel, activacion, input_shape)\n",
    "    # input_size es la forma deseada de la imagen (150x150) con 3 bytes de color\n",
    "    # Bloque de convolución 1\n",
    "    tf.keras.layers.Conv2D(80, (3,3), activation='relu', input_shape=(150, 150, 3)),\n",
    "    tf.keras.layers.MaxPooling2D(2,2),\n",
    "    \n",
    "    # Bloque de convolución 2\n",
    "    tf.keras.layers.Conv2D(100, (3,3), activation='relu'),\n",
    "    tf.keras.layers.MaxPooling2D(2,2), \n",
    "    \n",
    "    # Bloque de convolución 3\n",
    "    tf.keras.layers.Conv2D(100, (3,3), activation='relu'),\n",
    "    tf.keras.layers.Conv2D(100, (3,3), activation='relu'), \n",
    "    tf.keras.layers.MaxPooling2D(2,2),\n",
    "    \n",
    "    #Dropout\n",
    "    tf.keras.layers.Dropout(0.25),\n",
    "    \n",
    "    # \"Aplana\" los resultados para pasárselos a una DNN (Deep neural network)\n",
    "    tf.keras.layers.Flatten(), \n",
    "    \n",
    "    # Neuronas de capa oculta: 512\n",
    "    tf.keras.layers.Dense(256, activation='relu'),\n",
    "    tf.keras.layers.Dense(32, activation='relu'),\n",
    "    \n",
    "    # Neurona de salida que devuelve dos valores: 0 para gallinas muertas y 1 para gallinas vivas.\n",
    "    tf.keras.layers.Dense(1, activation='sigmoid')  \n",
    "])"
   ]
  },
  {
   "cell_type": "code",
   "execution_count": 4,
   "metadata": {},
   "outputs": [],
   "source": [
    "from tensorflow.keras.optimizers import RMSprop\n",
    "\n",
    "model.compile(optimizer=RMSprop(learning_rate=0.001),\n",
    "              loss='binary_crossentropy',\n",
    "              metrics = ['accuracy'])"
   ]
  },
  {
   "cell_type": "code",
   "execution_count": 5,
   "metadata": {},
   "outputs": [
    {
     "name": "stdout",
     "output_type": "stream",
     "text": [
      "Found 161 images belonging to 2 classes.\n",
      "Found 70 images belonging to 2 classes.\n"
     ]
    }
   ],
   "source": [
    "# DATA AUGMENTATION: ROTACIÓN, BRILLO, VOLTEO, REESCALADO\n",
    "train_datagen = ImageDataGenerator(rotation_range=90, \n",
    "                                   brightness_range=(0.2, 0.8), \n",
    "                                   horizontal_flip=True, \n",
    "                                   vertical_flip=True, \n",
    "                                   rescale = 1.0/255.)\n",
    "\n",
    "test_datagen  = ImageDataGenerator( rescale = 1.0/255. )\n",
    "\n",
    "# ------------------------------------------------------------------------\n",
    "# Entrenamiento de las imágenes en lotes de 5 utilizando \"train_datagen\"\n",
    "# ------------------------------------------------------------------------\n",
    "train_generator = train_datagen.flow_from_directory(train_dir,\n",
    "                                                    batch_size=5,\n",
    "                                                    class_mode='binary',\n",
    "                                                    target_size=(150, 150))     \n",
    "\n",
    "# ------------------------------------------------------------------------\n",
    "# Validación de las imágenes en lotes de 5 utilizando \"test_datagen\"\n",
    "# ------------------------------------------------------------------------\n",
    "validation_generator =  test_datagen.flow_from_directory(validation_dir,\n",
    "                                                         batch_size=5,\n",
    "                                                         class_mode  = 'binary',\n",
    "                                                         target_size = (150, 150))"
   ]
  },
  {
   "cell_type": "markdown",
   "metadata": {},
   "source": [
    "## Entrenamiento"
   ]
  },
  {
   "cell_type": "code",
   "execution_count": 6,
   "metadata": {},
   "outputs": [
    {
     "name": "stdout",
     "output_type": "stream",
     "text": [
      "Epoch 1/100\n",
      "33/33 - 62s - loss: 0.9098 - accuracy: 0.7329 - val_loss: 0.6022 - val_accuracy: 0.7286 - 62s/epoch - 2s/step\n",
      "Epoch 2/100\n",
      "33/33 - 56s - loss: 0.6165 - accuracy: 0.7391 - val_loss: 0.5827 - val_accuracy: 0.7286 - 56s/epoch - 2s/step\n",
      "Epoch 3/100\n",
      "33/33 - 57s - loss: 0.6370 - accuracy: 0.7391 - val_loss: 0.6123 - val_accuracy: 0.7286 - 57s/epoch - 2s/step\n",
      "Epoch 4/100\n",
      "33/33 - 58s - loss: 0.6025 - accuracy: 0.7391 - val_loss: 0.5976 - val_accuracy: 0.7286 - 58s/epoch - 2s/step\n",
      "Epoch 5/100\n",
      "33/33 - 56s - loss: 0.6121 - accuracy: 0.7391 - val_loss: 0.5988 - val_accuracy: 0.7286 - 56s/epoch - 2s/step\n",
      "Epoch 6/100\n",
      "33/33 - 56s - loss: 0.5920 - accuracy: 0.7391 - val_loss: 0.6619 - val_accuracy: 0.7286 - 56s/epoch - 2s/step\n",
      "Epoch 7/100\n",
      "33/33 - 56s - loss: 0.6245 - accuracy: 0.7391 - val_loss: 0.5887 - val_accuracy: 0.7286 - 56s/epoch - 2s/step\n",
      "Epoch 8/100\n",
      "33/33 - 56s - loss: 0.5684 - accuracy: 0.7391 - val_loss: 0.6681 - val_accuracy: 0.7286 - 56s/epoch - 2s/step\n",
      "Epoch 9/100\n",
      "33/33 - 56s - loss: 0.6078 - accuracy: 0.7391 - val_loss: 0.5901 - val_accuracy: 0.7286 - 56s/epoch - 2s/step\n",
      "Epoch 10/100\n",
      "33/33 - 56s - loss: 0.6465 - accuracy: 0.7391 - val_loss: 0.5953 - val_accuracy: 0.7286 - 56s/epoch - 2s/step\n",
      "Epoch 11/100\n",
      "33/33 - 56s - loss: 0.6089 - accuracy: 0.7391 - val_loss: 0.5971 - val_accuracy: 0.7286 - 56s/epoch - 2s/step\n",
      "Epoch 12/100\n",
      "33/33 - 56s - loss: 0.5746 - accuracy: 0.7391 - val_loss: 0.5759 - val_accuracy: 0.7286 - 56s/epoch - 2s/step\n",
      "Epoch 13/100\n",
      "33/33 - 56s - loss: 0.6059 - accuracy: 0.7391 - val_loss: 0.5894 - val_accuracy: 0.7286 - 56s/epoch - 2s/step\n",
      "Epoch 14/100\n",
      "33/33 - 56s - loss: 0.5922 - accuracy: 0.7391 - val_loss: 0.5789 - val_accuracy: 0.7286 - 56s/epoch - 2s/step\n",
      "Epoch 15/100\n",
      "33/33 - 56s - loss: 0.6608 - accuracy: 0.7391 - val_loss: 0.5227 - val_accuracy: 0.7571 - 56s/epoch - 2s/step\n",
      "Epoch 16/100\n",
      "33/33 - 56s - loss: 0.5600 - accuracy: 0.7578 - val_loss: 0.5374 - val_accuracy: 0.7286 - 56s/epoch - 2s/step\n",
      "Epoch 17/100\n",
      "33/33 - 56s - loss: 0.5769 - accuracy: 0.7826 - val_loss: 0.6034 - val_accuracy: 0.7571 - 56s/epoch - 2s/step\n",
      "Epoch 18/100\n",
      "33/33 - 56s - loss: 0.5118 - accuracy: 0.8012 - val_loss: 0.5255 - val_accuracy: 0.7571 - 56s/epoch - 2s/step\n",
      "Epoch 19/100\n",
      "33/33 - 56s - loss: 0.5568 - accuracy: 0.7702 - val_loss: 0.5305 - val_accuracy: 0.7143 - 56s/epoch - 2s/step\n",
      "Epoch 20/100\n",
      "33/33 - 56s - loss: 0.5386 - accuracy: 0.7826 - val_loss: 0.5262 - val_accuracy: 0.7714 - 56s/epoch - 2s/step\n",
      "Epoch 21/100\n",
      "33/33 - 56s - loss: 0.5263 - accuracy: 0.7950 - val_loss: 0.6818 - val_accuracy: 0.7000 - 56s/epoch - 2s/step\n",
      "Epoch 22/100\n",
      "33/33 - 56s - loss: 0.4230 - accuracy: 0.8323 - val_loss: 5.2428 - val_accuracy: 0.7286 - 56s/epoch - 2s/step\n",
      "Epoch 23/100\n",
      "33/33 - 56s - loss: 0.5972 - accuracy: 0.7453 - val_loss: 0.6248 - val_accuracy: 0.7143 - 56s/epoch - 2s/step\n",
      "Epoch 24/100\n",
      "33/33 - 56s - loss: 0.4887 - accuracy: 0.7640 - val_loss: 0.5312 - val_accuracy: 0.7143 - 56s/epoch - 2s/step\n",
      "Epoch 25/100\n",
      "33/33 - 56s - loss: 0.5595 - accuracy: 0.7640 - val_loss: 0.5383 - val_accuracy: 0.7000 - 56s/epoch - 2s/step\n",
      "Epoch 26/100\n",
      "33/33 - 56s - loss: 0.5295 - accuracy: 0.7578 - val_loss: 0.6089 - val_accuracy: 0.7286 - 56s/epoch - 2s/step\n",
      "Epoch 27/100\n",
      "33/33 - 56s - loss: 0.4852 - accuracy: 0.7888 - val_loss: 0.5714 - val_accuracy: 0.7000 - 56s/epoch - 2s/step\n",
      "Epoch 28/100\n",
      "33/33 - 56s - loss: 0.5697 - accuracy: 0.7578 - val_loss: 0.5257 - val_accuracy: 0.7286 - 56s/epoch - 2s/step\n",
      "Epoch 29/100\n",
      "33/33 - 56s - loss: 0.4771 - accuracy: 0.7702 - val_loss: 0.6091 - val_accuracy: 0.7000 - 56s/epoch - 2s/step\n",
      "Epoch 30/100\n",
      "33/33 - 56s - loss: 0.4516 - accuracy: 0.7888 - val_loss: 0.6838 - val_accuracy: 0.6714 - 56s/epoch - 2s/step\n",
      "Epoch 31/100\n",
      "33/33 - 56s - loss: 0.5120 - accuracy: 0.7826 - val_loss: 0.5530 - val_accuracy: 0.7429 - 56s/epoch - 2s/step\n",
      "Epoch 32/100\n",
      "33/33 - 56s - loss: 0.4912 - accuracy: 0.7453 - val_loss: 0.5865 - val_accuracy: 0.6714 - 56s/epoch - 2s/step\n",
      "Epoch 33/100\n",
      "33/33 - 56s - loss: 0.4938 - accuracy: 0.8199 - val_loss: 0.5802 - val_accuracy: 0.7000 - 56s/epoch - 2s/step\n",
      "Epoch 34/100\n",
      "33/33 - 56s - loss: 0.4917 - accuracy: 0.7826 - val_loss: 0.5021 - val_accuracy: 0.7286 - 56s/epoch - 2s/step\n",
      "Epoch 35/100\n",
      "33/33 - 57s - loss: 0.4400 - accuracy: 0.8137 - val_loss: 0.5201 - val_accuracy: 0.7000 - 57s/epoch - 2s/step\n",
      "Epoch 36/100\n",
      "33/33 - 56s - loss: 0.4338 - accuracy: 0.8012 - val_loss: 0.6446 - val_accuracy: 0.7000 - 56s/epoch - 2s/step\n",
      "Epoch 37/100\n",
      "33/33 - 56s - loss: 0.5001 - accuracy: 0.7702 - val_loss: 0.6183 - val_accuracy: 0.7143 - 56s/epoch - 2s/step\n",
      "Epoch 38/100\n",
      "33/33 - 56s - loss: 0.5208 - accuracy: 0.7950 - val_loss: 0.6444 - val_accuracy: 0.7000 - 56s/epoch - 2s/step\n",
      "Epoch 39/100\n",
      "33/33 - 56s - loss: 0.4400 - accuracy: 0.8012 - val_loss: 0.5362 - val_accuracy: 0.7429 - 56s/epoch - 2s/step\n",
      "Epoch 40/100\n",
      "33/33 - 56s - loss: 0.4524 - accuracy: 0.7391 - val_loss: 1.0359 - val_accuracy: 0.7143 - 56s/epoch - 2s/step\n",
      "Epoch 41/100\n",
      "33/33 - 56s - loss: 0.5543 - accuracy: 0.7888 - val_loss: 0.5275 - val_accuracy: 0.7571 - 56s/epoch - 2s/step\n",
      "Epoch 42/100\n",
      "33/33 - 56s - loss: 0.4666 - accuracy: 0.7640 - val_loss: 0.5789 - val_accuracy: 0.7000 - 56s/epoch - 2s/step\n",
      "Epoch 43/100\n",
      "33/33 - 57s - loss: 0.4560 - accuracy: 0.7950 - val_loss: 0.5993 - val_accuracy: 0.7429 - 57s/epoch - 2s/step\n",
      "Epoch 44/100\n",
      "33/33 - 56s - loss: 0.4528 - accuracy: 0.7950 - val_loss: 3.0664 - val_accuracy: 0.7286 - 56s/epoch - 2s/step\n",
      "Epoch 45/100\n",
      "33/33 - 56s - loss: 0.4628 - accuracy: 0.8137 - val_loss: 0.7574 - val_accuracy: 0.7143 - 56s/epoch - 2s/step\n",
      "Epoch 46/100\n",
      "33/33 - 56s - loss: 0.5387 - accuracy: 0.8137 - val_loss: 0.5938 - val_accuracy: 0.7143 - 56s/epoch - 2s/step\n",
      "Epoch 47/100\n",
      "33/33 - 56s - loss: 0.5110 - accuracy: 0.7826 - val_loss: 0.5408 - val_accuracy: 0.7571 - 56s/epoch - 2s/step\n",
      "Epoch 48/100\n",
      "33/33 - 56s - loss: 0.4660 - accuracy: 0.7764 - val_loss: 0.5635 - val_accuracy: 0.7571 - 56s/epoch - 2s/step\n",
      "Epoch 49/100\n",
      "33/33 - 56s - loss: 0.4521 - accuracy: 0.7950 - val_loss: 0.7136 - val_accuracy: 0.7286 - 56s/epoch - 2s/step\n",
      "Epoch 50/100\n",
      "33/33 - 56s - loss: 0.4322 - accuracy: 0.7888 - val_loss: 1.1022 - val_accuracy: 0.7571 - 56s/epoch - 2s/step\n",
      "Epoch 51/100\n",
      "33/33 - 56s - loss: 0.4500 - accuracy: 0.8137 - val_loss: 0.7377 - val_accuracy: 0.7571 - 56s/epoch - 2s/step\n",
      "Epoch 52/100\n",
      "33/33 - 56s - loss: 0.5004 - accuracy: 0.7640 - val_loss: 0.5702 - val_accuracy: 0.7286 - 56s/epoch - 2s/step\n",
      "Epoch 53/100\n",
      "33/33 - 56s - loss: 0.4800 - accuracy: 0.7888 - val_loss: 0.6659 - val_accuracy: 0.7571 - 56s/epoch - 2s/step\n",
      "Epoch 54/100\n",
      "33/33 - 56s - loss: 0.4524 - accuracy: 0.7826 - val_loss: 1.1538 - val_accuracy: 0.7571 - 56s/epoch - 2s/step\n",
      "Epoch 55/100\n",
      "33/33 - 56s - loss: 0.4800 - accuracy: 0.8199 - val_loss: 0.8674 - val_accuracy: 0.7429 - 56s/epoch - 2s/step\n",
      "Epoch 56/100\n",
      "33/33 - 56s - loss: 0.5069 - accuracy: 0.8075 - val_loss: 0.5591 - val_accuracy: 0.7286 - 56s/epoch - 2s/step\n",
      "Epoch 57/100\n",
      "33/33 - 56s - loss: 0.6092 - accuracy: 0.8137 - val_loss: 0.4938 - val_accuracy: 0.7714 - 56s/epoch - 2s/step\n",
      "Epoch 58/100\n",
      "33/33 - 56s - loss: 0.4170 - accuracy: 0.8261 - val_loss: 0.5241 - val_accuracy: 0.7857 - 56s/epoch - 2s/step\n",
      "Epoch 59/100\n",
      "33/33 - 56s - loss: 0.4133 - accuracy: 0.8137 - val_loss: 0.5126 - val_accuracy: 0.7571 - 56s/epoch - 2s/step\n",
      "Epoch 60/100\n",
      "33/33 - 56s - loss: 0.5229 - accuracy: 0.7764 - val_loss: 0.7556 - val_accuracy: 0.7571 - 56s/epoch - 2s/step\n",
      "Epoch 61/100\n",
      "33/33 - 56s - loss: 0.4386 - accuracy: 0.8137 - val_loss: 1.7335 - val_accuracy: 0.7429 - 56s/epoch - 2s/step\n",
      "Epoch 62/100\n",
      "33/33 - 56s - loss: 0.5066 - accuracy: 0.7640 - val_loss: 0.7356 - val_accuracy: 0.7857 - 56s/epoch - 2s/step\n",
      "Epoch 63/100\n",
      "33/33 - 56s - loss: 0.4701 - accuracy: 0.7950 - val_loss: 0.6405 - val_accuracy: 0.7714 - 56s/epoch - 2s/step\n",
      "Epoch 64/100\n",
      "33/33 - 56s - loss: 0.4529 - accuracy: 0.7950 - val_loss: 0.6370 - val_accuracy: 0.7429 - 56s/epoch - 2s/step\n",
      "Epoch 65/100\n",
      "33/33 - 56s - loss: 0.4418 - accuracy: 0.8012 - val_loss: 0.8479 - val_accuracy: 0.7429 - 56s/epoch - 2s/step\n",
      "Epoch 66/100\n",
      "33/33 - 56s - loss: 0.4544 - accuracy: 0.8137 - val_loss: 0.6178 - val_accuracy: 0.7714 - 56s/epoch - 2s/step\n",
      "Epoch 67/100\n",
      "33/33 - 56s - loss: 0.4071 - accuracy: 0.7888 - val_loss: 2.5512 - val_accuracy: 0.7286 - 56s/epoch - 2s/step\n"
     ]
    },
    {
     "name": "stdout",
     "output_type": "stream",
     "text": [
      "Epoch 68/100\n",
      "33/33 - 56s - loss: 0.4883 - accuracy: 0.8137 - val_loss: 0.5387 - val_accuracy: 0.7286 - 56s/epoch - 2s/step\n",
      "Epoch 69/100\n",
      "33/33 - 56s - loss: 0.5583 - accuracy: 0.7826 - val_loss: 0.7375 - val_accuracy: 0.7714 - 56s/epoch - 2s/step\n",
      "Epoch 70/100\n",
      "33/33 - 56s - loss: 0.4314 - accuracy: 0.8075 - val_loss: 0.7554 - val_accuracy: 0.7714 - 56s/epoch - 2s/step\n",
      "Epoch 71/100\n",
      "33/33 - 56s - loss: 0.4490 - accuracy: 0.8012 - val_loss: 0.5397 - val_accuracy: 0.7714 - 56s/epoch - 2s/step\n",
      "Epoch 72/100\n",
      "33/33 - 56s - loss: 0.4701 - accuracy: 0.7826 - val_loss: 0.8347 - val_accuracy: 0.7714 - 56s/epoch - 2s/step\n",
      "Epoch 73/100\n",
      "33/33 - 56s - loss: 0.4465 - accuracy: 0.7702 - val_loss: 0.5649 - val_accuracy: 0.8000 - 56s/epoch - 2s/step\n",
      "Epoch 74/100\n",
      "33/33 - 56s - loss: 0.4568 - accuracy: 0.7888 - val_loss: 0.4771 - val_accuracy: 0.7571 - 56s/epoch - 2s/step\n",
      "Epoch 75/100\n",
      "33/33 - 56s - loss: 0.4129 - accuracy: 0.8012 - val_loss: 0.5983 - val_accuracy: 0.6714 - 56s/epoch - 2s/step\n",
      "Epoch 76/100\n",
      "33/33 - 56s - loss: 0.4149 - accuracy: 0.7950 - val_loss: 0.6589 - val_accuracy: 0.7714 - 56s/epoch - 2s/step\n",
      "Epoch 77/100\n",
      "33/33 - 56s - loss: 0.4963 - accuracy: 0.8385 - val_loss: 0.6733 - val_accuracy: 0.7571 - 56s/epoch - 2s/step\n",
      "Epoch 78/100\n",
      "33/33 - 56s - loss: 0.4046 - accuracy: 0.8137 - val_loss: 0.6929 - val_accuracy: 0.7857 - 56s/epoch - 2s/step\n",
      "Epoch 79/100\n",
      "33/33 - 56s - loss: 0.4420 - accuracy: 0.8261 - val_loss: 0.6978 - val_accuracy: 0.7429 - 56s/epoch - 2s/step\n",
      "Epoch 80/100\n",
      "33/33 - 56s - loss: 0.4256 - accuracy: 0.8012 - val_loss: 0.7868 - val_accuracy: 0.7571 - 56s/epoch - 2s/step\n",
      "Epoch 81/100\n",
      "33/33 - 56s - loss: 0.4101 - accuracy: 0.7950 - val_loss: 0.5536 - val_accuracy: 0.7857 - 56s/epoch - 2s/step\n",
      "Epoch 82/100\n",
      "33/33 - 56s - loss: 0.3707 - accuracy: 0.8323 - val_loss: 1.2031 - val_accuracy: 0.7571 - 56s/epoch - 2s/step\n",
      "Epoch 83/100\n",
      "33/33 - 56s - loss: 0.4297 - accuracy: 0.7516 - val_loss: 0.6978 - val_accuracy: 0.8000 - 56s/epoch - 2s/step\n",
      "Epoch 84/100\n",
      "33/33 - 56s - loss: 0.4039 - accuracy: 0.7888 - val_loss: 0.5793 - val_accuracy: 0.8000 - 56s/epoch - 2s/step\n",
      "Epoch 85/100\n",
      "33/33 - 56s - loss: 0.4146 - accuracy: 0.7888 - val_loss: 1.2331 - val_accuracy: 0.7714 - 56s/epoch - 2s/step\n",
      "Epoch 86/100\n",
      "33/33 - 56s - loss: 0.5661 - accuracy: 0.7888 - val_loss: 1.1362 - val_accuracy: 0.7429 - 56s/epoch - 2s/step\n",
      "Epoch 87/100\n",
      "33/33 - 56s - loss: 0.4873 - accuracy: 0.8075 - val_loss: 0.9617 - val_accuracy: 0.7714 - 56s/epoch - 2s/step\n",
      "Epoch 88/100\n",
      "33/33 - 56s - loss: 0.4037 - accuracy: 0.8075 - val_loss: 0.7261 - val_accuracy: 0.7857 - 56s/epoch - 2s/step\n",
      "Epoch 89/100\n",
      "33/33 - 56s - loss: 0.6474 - accuracy: 0.8075 - val_loss: 0.5298 - val_accuracy: 0.7857 - 56s/epoch - 2s/step\n",
      "Epoch 90/100\n",
      "33/33 - 56s - loss: 0.4294 - accuracy: 0.8075 - val_loss: 0.7709 - val_accuracy: 0.8286 - 56s/epoch - 2s/step\n",
      "Epoch 91/100\n",
      "33/33 - 56s - loss: 0.4558 - accuracy: 0.7764 - val_loss: 0.6997 - val_accuracy: 0.8000 - 56s/epoch - 2s/step\n",
      "Epoch 92/100\n",
      "33/33 - 56s - loss: 0.4076 - accuracy: 0.8261 - val_loss: 0.6813 - val_accuracy: 0.8000 - 56s/epoch - 2s/step\n",
      "Epoch 93/100\n",
      "33/33 - 59s - loss: 0.4015 - accuracy: 0.8137 - val_loss: 0.5382 - val_accuracy: 0.7571 - 59s/epoch - 2s/step\n",
      "Epoch 94/100\n",
      "33/33 - 60s - loss: 0.3728 - accuracy: 0.7826 - val_loss: 0.8427 - val_accuracy: 0.8000 - 60s/epoch - 2s/step\n",
      "Epoch 95/100\n",
      "33/33 - 62s - loss: 0.3979 - accuracy: 0.7950 - val_loss: 2.7021 - val_accuracy: 0.7286 - 62s/epoch - 2s/step\n",
      "Epoch 96/100\n",
      "33/33 - 62s - loss: 0.8481 - accuracy: 0.7764 - val_loss: 0.5665 - val_accuracy: 0.7429 - 62s/epoch - 2s/step\n",
      "Epoch 97/100\n",
      "33/33 - 62s - loss: 0.3636 - accuracy: 0.8261 - val_loss: 2.4440 - val_accuracy: 0.7571 - 62s/epoch - 2s/step\n",
      "Epoch 98/100\n",
      "33/33 - 63s - loss: 0.5221 - accuracy: 0.8075 - val_loss: 0.7343 - val_accuracy: 0.7857 - 63s/epoch - 2s/step\n",
      "Epoch 99/100\n",
      "33/33 - 63s - loss: 0.4421 - accuracy: 0.8137 - val_loss: 1.7035 - val_accuracy: 0.7286 - 63s/epoch - 2s/step\n",
      "Epoch 100/100\n",
      "33/33 - 63s - loss: 0.4945 - accuracy: 0.7888 - val_loss: 1.2009 - val_accuracy: 0.7714 - 63s/epoch - 2s/step\n"
     ]
    }
   ],
   "source": [
    "history = model.fit(train_generator,\n",
    "                              validation_data=validation_generator,\n",
    "                              epochs=100,\n",
    "                              verbose=2)"
   ]
  },
  {
   "cell_type": "code",
   "execution_count": 7,
   "metadata": {},
   "outputs": [
    {
     "name": "stdout",
     "output_type": "stream",
     "text": [
      "Pérdida: 1.2008684873580933 / Precisión: 0.7714285850524902\n"
     ]
    }
   ],
   "source": [
    "resultado = model.evaluate(validation_generator, verbose=0)\n",
    "print(f'Pérdida: {resultado[0]} / Precisión: {resultado[1]}')"
   ]
  },
  {
   "cell_type": "code",
   "execution_count": 8,
   "metadata": {},
   "outputs": [
    {
     "data": {
      "image/png": "[encoded data removed]",
      "text/plain": [
       "<Figure size 432x288 with 1 Axes>"
      ]
     },
     "metadata": {
      "needs_background": "light"
     },
     "output_type": "display_data"
    },
    {
     "data": {
      "image/png": "[encoded data removed]",
      "text/plain": [
       "<Figure size 432x288 with 1 Axes>"
      ]
     },
     "metadata": {
      "needs_background": "light"
     },
     "output_type": "display_data"
    }
   ],
   "source": [
    "#-----------------------------------------------------------\n",
    "# Recupero los valores para dibujar las gráficas\n",
    "#-----------------------------------------------------------\n",
    "acc = history.history['accuracy']\n",
    "val_acc = history.history['val_accuracy']\n",
    "loss = history.history['loss']\n",
    "val_loss = history.history['val_loss']\n",
    "\n",
    "epochs = range(len(acc))\n",
    "\n",
    "#------------------------------------------------\n",
    "# Accuracy vs val_accuracy\n",
    "#------------------------------------------------\n",
    "plt.plot(epochs, acc, 'b', label='Training accuracy')\n",
    "plt.plot(epochs, val_acc, 'r', label='Validation accuracy')\n",
    "plt.title('accuracy vs val_accuracy')\n",
    "plt.legend()\n",
    "\n",
    "plt.figure()\n",
    "\n",
    "#------------------------------------------------\n",
    "# Loss vs val_loss\n",
    "#------------------------------------------------\n",
    "plt.plot(epochs, loss, 'b', label='Training Loss')\n",
    "plt.plot(epochs, val_loss, 'r', label='Validation Loss')\n",
    "plt.title('loss vs val_loss')\n",
    "plt.legend()\n",
    "\n",
    "plt.show()"
   ]
  },
  {
   "cell_type": "markdown",
   "metadata": {},
   "source": [
    "## Función de clasificación"
   ]
  },
  {
   "cell_type": "code",
   "execution_count": 9,
   "metadata": {},
   "outputs": [],
   "source": [
    "def clasificacion(path):\n",
    "    img=image.load_img(path, target_size=(150, 150))\n",
    "  \n",
    "    x=image.img_to_array(img)\n",
    "    x=np.expand_dims(x, axis=0)\n",
    "    images = np.vstack([x])\n",
    "  \n",
    "    classes = model.predict(images, batch_size=10)\n",
    "  \n",
    "    if classes[0]>0:\n",
    "        print(\"Está viva\")\n",
    "    else:\n",
    "        print(\"Está muerta\")"
   ]
  },
  {
   "cell_type": "markdown",
   "metadata": {},
   "source": [
    "# ----------------------------------------------------------------------------------------------------\n",
    "# Pruebas de clasificación\n",
    "# ----------------------------------------------------------------------------------------------------"
   ]
  },
  {
   "cell_type": "code",
   "execution_count": 10,
   "metadata": {
    "scrolled": true
   },
   "outputs": [
    {
     "name": "stdout",
     "output_type": "stream",
     "text": [
      "Está muerta\n"
     ]
    }
   ],
   "source": [
    "#Directorio que contiene una foto de una gallina, independientemente de su estado, para su clasificación\n",
    "path='C:/Users/Saul/Desktop/SAUL/INFORMATICA/UBU 4º/2º semestre/TFG/Fotos_Proyecto_Detección_de_Bajas/Prediccion/I_1.jpg'\n",
    "\n",
    "clasificacion(path)"
   ]
  },
  {
   "cell_type": "code",
   "execution_count": null,
   "metadata": {},
   "outputs": [],
   "source": []
  }
 ],
 "metadata": {
  "kernelspec": {
   "display_name": "Python 3",
   "language": "python",
   "name": "python3"
  },
  "language_info": {
   "codemirror_mode": {
    "name": "ipython",
    "version": 3
   },
   "file_extension": ".py",
   "mimetype": "text/x-python",
   "name": "python",
   "nbconvert_exporter": "python",
   "pygments_lexer": "ipython3",
   "version": "3.8.3"
  }
 },
 "nbformat": 4,
 "nbformat_minor": 4
}
